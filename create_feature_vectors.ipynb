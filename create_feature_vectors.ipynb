{
 "cells": [
  {
   "cell_type": "markdown",
   "metadata": {},
   "source": [
    "# Create feature vectors for all images"
   ]
  },
  {
   "cell_type": "markdown",
   "metadata": {},
   "source": [
    "### Imports"
   ]
  },
  {
   "cell_type": "code",
   "execution_count": 18,
   "metadata": {},
   "outputs": [],
   "source": [
    "from keras import backend as K\n",
    "from keras.models import load_model\n",
    "from keras.models import Model\n",
    "from keras.preprocessing.image import array_to_img, img_to_array, load_img\n",
    "import os\n",
    "import glob\n",
    "import numpy as np\n",
    "import pickle"
   ]
  },
  {
   "cell_type": "markdown",
   "metadata": {},
   "source": [
    "### Load / create model"
   ]
  },
  {
   "cell_type": "markdown",
   "metadata": {},
   "source": [
    "Spectrograms to be converted should be saved in DATA_DIR"
   ]
  },
  {
   "cell_type": "code",
   "execution_count": 20,
   "metadata": {
    "collapsed": true
   },
   "outputs": [],
   "source": [
    "DATA_DIR = 'prediction/'"
   ]
  },
  {
   "cell_type": "code",
   "execution_count": 21,
   "metadata": {},
   "outputs": [],
   "source": [
    "image_size = 256\n",
    "\n",
    "if K.image_data_format() == 'channels_first':\n",
    "    input_shape = (3, image_size, image_size)\n",
    "else:\n",
    "    input_shape = (image_size, image_size, 3)"
   ]
  },
  {
   "cell_type": "code",
   "execution_count": 22,
   "metadata": {},
   "outputs": [
    {
     "name": "stderr",
     "output_type": "stream",
     "text": [
      "/Users/matthewmurray/anaconda/lib/python3.6/site-packages/Keras-2.0.4-py3.6.egg/keras/models.py:254: UserWarning: No training configuration found in save file: the model was *not* compiled. Compile it manually.\n",
      "  warnings.warn('No training configuration found in save file: '\n"
     ]
    }
   ],
   "source": [
    "feature_vec_model = load_model('music_feature_extractor.hdf5')"
   ]
  },
  {
   "cell_type": "markdown",
   "metadata": {},
   "source": [
    "### Process files & pickle"
   ]
  },
  {
   "cell_type": "code",
   "execution_count": 26,
   "metadata": {},
   "outputs": [],
   "source": [
    "# ### Predict against saved spectrograms\n",
    "spect_files = glob.glob('prediction/*.png')\n",
    "\n",
    "for file in spect_files:\n",
    "    img = load_img('{}'.format(file), target_size=(256, 256))\n",
    "    img_array = img_to_array(img)\n",
    "    img_array = np.expand_dims(img_array, axis=0)\n",
    "    img_array /= 255\n",
    "    \n",
    "    feature_vec = feature_vec_model.predict(img_array)\n",
    "    \n",
    "    s = file\n",
    "    s = s.replace('.png','')\n",
    "    s = s.split('/')[1]\n",
    "    file_info = s\n",
    "    \n",
    "    out_file_name = '{}.npy'.format(file_info)\n",
    "    out_file_dir = 'feature_vec_arrays_single_file'\n",
    "    out_file_path = '{}/{}'.format(out_file_dir, out_file_name)\n",
    "    \n",
    "    np.save(out_file_path, feature_vec)"
   ]
  },
  {
   "cell_type": "markdown",
   "metadata": {},
   "source": [
    "### Open file as a test"
   ]
  },
  {
   "cell_type": "code",
   "execution_count": 16,
   "metadata": {},
   "outputs": [
    {
     "data": {
      "text/plain": [
       "['feature_vec_arrays_single_file/downtempo__7767__012.npy']"
      ]
     },
     "execution_count": 16,
     "metadata": {},
     "output_type": "execute_result"
    }
   ],
   "source": [
    "npy_files = glob.glob('{}/*'.format(out_file_dir))\n",
    "npy_files[0:5]"
   ]
  },
  {
   "cell_type": "code",
   "execution_count": 17,
   "metadata": {},
   "outputs": [
    {
     "data": {
      "text/plain": [
       "array([[ 0.73658961, -1.26961362, -0.67069709, -0.66982502, -1.15346324,\n",
       "        -0.52219743, -1.72817636, -0.25997773, -0.68321425,  0.47590998,\n",
       "        -1.65066671, -0.88766211, -0.38460684, -2.63278747, -2.00084829,\n",
       "         1.16182446, -1.17443871, -0.98828024,  0.81672996,  0.38735956,\n",
       "         2.27693439, -0.10764299, -1.67866576, -0.06499755, -1.40022075,\n",
       "        -1.45620775,  0.32567281, -0.37885734, -1.2298044 ,  1.200109  ,\n",
       "        -2.49714923,  0.8320055 , -1.93124449, -0.17418647, -0.88369209,\n",
       "        -1.16413903, -0.33123904,  0.04040833,  0.38160366,  0.09619522,\n",
       "        -0.74491966, -1.66867304, -0.76721835,  1.16841352, -0.62756848,\n",
       "        -0.15751502,  0.1237587 , -3.02577853, -0.1173209 , -0.34011313,\n",
       "         0.68979514, -0.13477962,  0.52227503, -1.02233386, -0.28775963,\n",
       "         0.21001419,  0.1295501 ,  1.89431262,  0.30332389,  1.08021891,\n",
       "         0.92267287,  0.18645111, -0.78686333, -3.75367498,  0.31980398,\n",
       "        -1.92476237, -1.35605621,  0.21677452, -0.39932412, -0.94050759,\n",
       "        -3.08807564,  0.37456155, -0.41393745,  0.35732859, -2.92227411,\n",
       "         0.378699  , -0.33759409, -0.27796972,  0.724222  , -0.21898639,\n",
       "        -0.83760273, -2.1997683 , -0.11409653,  0.38211179, -0.1599658 ,\n",
       "        -1.14010322,  0.69291526, -1.31150413, -1.67154801, -0.55297714,\n",
       "        -0.69440961, -2.89020419, -2.8230629 , -1.12012398, -0.68236971,\n",
       "        -0.42790931,  0.22703323,  0.15804729,  0.23804817,  0.59953028,\n",
       "        -0.45227647, -1.48705149, -2.04866195,  0.40837315, -1.28532863,\n",
       "        -2.44750571, -1.49474859, -0.21164383,  0.15107745, -1.24476779,\n",
       "        -0.0936745 ,  0.25666353, -0.0494877 , -1.06857634, -1.68392479,\n",
       "         0.52489305,  1.01747668, -0.96909928,  1.62208211, -1.06989038,\n",
       "        -1.55280852, -1.9022727 , -2.49434805, -1.67980313, -0.38481396,\n",
       "        -1.58377481, -0.29106376, -1.20812988]], dtype=float32)"
      ]
     },
     "execution_count": 17,
     "metadata": {},
     "output_type": "execute_result"
    }
   ],
   "source": [
    "test_file = npy_files[0]\n",
    "f = np.load(test_file)\n",
    "f"
   ]
  }
 ],
 "metadata": {
  "kernelspec": {
   "display_name": "Python 3",
   "language": "python",
   "name": "python3"
  },
  "language_info": {
   "codemirror_mode": {
    "name": "ipython",
    "version": 3
   },
   "file_extension": ".py",
   "mimetype": "text/x-python",
   "name": "python",
   "nbconvert_exporter": "python",
   "pygments_lexer": "ipython3",
   "version": "3.5.2"
  }
 },
 "nbformat": 4,
 "nbformat_minor": 2
}
