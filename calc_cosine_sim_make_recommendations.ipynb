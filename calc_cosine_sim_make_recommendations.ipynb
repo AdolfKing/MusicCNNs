{
 "cells": [
  {
   "cell_type": "markdown",
   "metadata": {},
   "source": [
    "# Calculate cosine similarities and generate recommendations"
   ]
  },
  {
   "cell_type": "markdown",
   "metadata": {},
   "source": [
    "### Imports"
   ]
  },
  {
   "cell_type": "code",
   "execution_count": 1,
   "metadata": {
    "collapsed": true
   },
   "outputs": [],
   "source": [
    "import os\n",
    "import glob\n",
    "import numpy as np\n",
    "import pickle\n",
    "import pandas as pd\n",
    "from sklearn.metrics.pairwise import cosine_similarity"
   ]
  },
  {
   "cell_type": "markdown",
   "metadata": {},
   "source": [
    "### Load npy files and song ids for all songs in data set"
   ]
  },
  {
   "cell_type": "code",
   "execution_count": 2,
   "metadata": {
    "collapsed": true
   },
   "outputs": [],
   "source": [
    "np_arrays = np.load('all_feature_arrays_original_data_set.npy')"
   ]
  },
  {
   "cell_type": "code",
   "execution_count": 3,
   "metadata": {
    "collapsed": true
   },
   "outputs": [],
   "source": [
    "with open('all_song_ids_original_data_set.pkl', 'rb') as handle:\n",
    "    song_ids = pickle.load(handle)"
   ]
  },
  {
   "cell_type": "code",
   "execution_count": 4,
   "metadata": {},
   "outputs": [
    {
     "data": {
      "text/plain": [
       "(8715, 128)"
      ]
     },
     "execution_count": 4,
     "metadata": {},
     "output_type": "execute_result"
    }
   ],
   "source": [
    "np_arrays.shape"
   ]
  },
  {
   "cell_type": "code",
   "execution_count": 5,
   "metadata": {},
   "outputs": [
    {
     "data": {
      "text/plain": [
       "8715"
      ]
     },
     "execution_count": 5,
     "metadata": {},
     "output_type": "execute_result"
    }
   ],
   "source": [
    "len(song_ids)"
   ]
  },
  {
   "cell_type": "markdown",
   "metadata": {},
   "source": [
    "### Calculate cosine similarities"
   ]
  },
  {
   "cell_type": "code",
   "execution_count": 6,
   "metadata": {},
   "outputs": [],
   "source": [
    "cs = cosine_similarity(np_arrays)"
   ]
  },
  {
   "cell_type": "code",
   "execution_count": 7,
   "metadata": {
    "collapsed": true
   },
   "outputs": [],
   "source": [
    "dists = pd.DataFrame(cs, columns=song_ids)\n",
    "dists.index = dists.columns"
   ]
  },
  {
   "cell_type": "code",
   "execution_count": 8,
   "metadata": {},
   "outputs": [
    {
     "data": {
      "text/html": [
       "<div>\n",
       "<table border=\"1\" class=\"dataframe\">\n",
       "  <thead>\n",
       "    <tr style=\"text-align: right;\">\n",
       "      <th></th>\n",
       "      <th>100001</th>\n",
       "      <th>10003</th>\n",
       "      <th>100035</th>\n",
       "      <th>100039</th>\n",
       "      <th>100042</th>\n",
       "      <th>100053</th>\n",
       "      <th>100068</th>\n",
       "      <th>100077</th>\n",
       "      <th>100082</th>\n",
       "      <th>100118</th>\n",
       "      <th>...</th>\n",
       "      <th>99187</th>\n",
       "      <th>99253</th>\n",
       "      <th>99259</th>\n",
       "      <th>99351</th>\n",
       "      <th>99380</th>\n",
       "      <th>99416</th>\n",
       "      <th>99470</th>\n",
       "      <th>99473</th>\n",
       "      <th>99496</th>\n",
       "      <th>99928</th>\n",
       "    </tr>\n",
       "  </thead>\n",
       "  <tbody>\n",
       "    <tr>\n",
       "      <th>100001</th>\n",
       "      <td>1.000000</td>\n",
       "      <td>-0.154758</td>\n",
       "      <td>0.702616</td>\n",
       "      <td>-0.397046</td>\n",
       "      <td>0.406874</td>\n",
       "      <td>0.452844</td>\n",
       "      <td>0.099104</td>\n",
       "      <td>0.307161</td>\n",
       "      <td>0.940820</td>\n",
       "      <td>0.979642</td>\n",
       "      <td>...</td>\n",
       "      <td>0.151751</td>\n",
       "      <td>0.476339</td>\n",
       "      <td>0.442607</td>\n",
       "      <td>0.564234</td>\n",
       "      <td>0.017172</td>\n",
       "      <td>0.144805</td>\n",
       "      <td>0.769451</td>\n",
       "      <td>0.497425</td>\n",
       "      <td>0.077625</td>\n",
       "      <td>-0.027161</td>\n",
       "    </tr>\n",
       "    <tr>\n",
       "      <th>10003</th>\n",
       "      <td>-0.154758</td>\n",
       "      <td>1.000000</td>\n",
       "      <td>0.004686</td>\n",
       "      <td>0.883299</td>\n",
       "      <td>0.318349</td>\n",
       "      <td>-0.212148</td>\n",
       "      <td>-0.218137</td>\n",
       "      <td>-0.373612</td>\n",
       "      <td>0.004743</td>\n",
       "      <td>-0.084599</td>\n",
       "      <td>...</td>\n",
       "      <td>0.172331</td>\n",
       "      <td>-0.128291</td>\n",
       "      <td>-0.278291</td>\n",
       "      <td>0.292668</td>\n",
       "      <td>0.652501</td>\n",
       "      <td>0.656895</td>\n",
       "      <td>0.172539</td>\n",
       "      <td>-0.143816</td>\n",
       "      <td>0.287689</td>\n",
       "      <td>0.213292</td>\n",
       "    </tr>\n",
       "    <tr>\n",
       "      <th>100035</th>\n",
       "      <td>0.702616</td>\n",
       "      <td>0.004686</td>\n",
       "      <td>1.000000</td>\n",
       "      <td>-0.186422</td>\n",
       "      <td>0.316381</td>\n",
       "      <td>0.014930</td>\n",
       "      <td>-0.225187</td>\n",
       "      <td>0.015335</td>\n",
       "      <td>0.670139</td>\n",
       "      <td>0.637489</td>\n",
       "      <td>...</td>\n",
       "      <td>0.607677</td>\n",
       "      <td>0.170575</td>\n",
       "      <td>-0.010678</td>\n",
       "      <td>0.328670</td>\n",
       "      <td>0.127565</td>\n",
       "      <td>0.140862</td>\n",
       "      <td>0.442408</td>\n",
       "      <td>0.286417</td>\n",
       "      <td>0.122609</td>\n",
       "      <td>-0.028630</td>\n",
       "    </tr>\n",
       "    <tr>\n",
       "      <th>100039</th>\n",
       "      <td>-0.397046</td>\n",
       "      <td>0.883299</td>\n",
       "      <td>-0.186422</td>\n",
       "      <td>1.000000</td>\n",
       "      <td>0.248173</td>\n",
       "      <td>-0.176949</td>\n",
       "      <td>-0.032846</td>\n",
       "      <td>-0.279605</td>\n",
       "      <td>-0.313267</td>\n",
       "      <td>-0.310417</td>\n",
       "      <td>...</td>\n",
       "      <td>0.258158</td>\n",
       "      <td>-0.043845</td>\n",
       "      <td>-0.303766</td>\n",
       "      <td>0.079623</td>\n",
       "      <td>0.467876</td>\n",
       "      <td>0.640574</td>\n",
       "      <td>-0.105737</td>\n",
       "      <td>-0.270808</td>\n",
       "      <td>0.320915</td>\n",
       "      <td>0.265737</td>\n",
       "    </tr>\n",
       "    <tr>\n",
       "      <th>100042</th>\n",
       "      <td>0.406874</td>\n",
       "      <td>0.318349</td>\n",
       "      <td>0.316381</td>\n",
       "      <td>0.248173</td>\n",
       "      <td>1.000000</td>\n",
       "      <td>0.041336</td>\n",
       "      <td>-0.090751</td>\n",
       "      <td>-0.247024</td>\n",
       "      <td>0.512963</td>\n",
       "      <td>0.454773</td>\n",
       "      <td>...</td>\n",
       "      <td>0.384140</td>\n",
       "      <td>0.114457</td>\n",
       "      <td>-0.101812</td>\n",
       "      <td>0.706866</td>\n",
       "      <td>0.549142</td>\n",
       "      <td>0.284744</td>\n",
       "      <td>0.682829</td>\n",
       "      <td>0.376825</td>\n",
       "      <td>0.652485</td>\n",
       "      <td>0.510134</td>\n",
       "    </tr>\n",
       "  </tbody>\n",
       "</table>\n",
       "<p>5 rows × 8715 columns</p>\n",
       "</div>"
      ],
      "text/plain": [
       "          100001     10003    100035    100039    100042    100053    100068  \\\n",
       "100001  1.000000 -0.154758  0.702616 -0.397046  0.406874  0.452844  0.099104   \n",
       "10003  -0.154758  1.000000  0.004686  0.883299  0.318349 -0.212148 -0.218137   \n",
       "100035  0.702616  0.004686  1.000000 -0.186422  0.316381  0.014930 -0.225187   \n",
       "100039 -0.397046  0.883299 -0.186422  1.000000  0.248173 -0.176949 -0.032846   \n",
       "100042  0.406874  0.318349  0.316381  0.248173  1.000000  0.041336 -0.090751   \n",
       "\n",
       "          100077    100082    100118    ...        99187     99253     99259  \\\n",
       "100001  0.307161  0.940820  0.979642    ...     0.151751  0.476339  0.442607   \n",
       "10003  -0.373612  0.004743 -0.084599    ...     0.172331 -0.128291 -0.278291   \n",
       "100035  0.015335  0.670139  0.637489    ...     0.607677  0.170575 -0.010678   \n",
       "100039 -0.279605 -0.313267 -0.310417    ...     0.258158 -0.043845 -0.303766   \n",
       "100042 -0.247024  0.512963  0.454773    ...     0.384140  0.114457 -0.101812   \n",
       "\n",
       "           99351     99380     99416     99470     99473     99496     99928  \n",
       "100001  0.564234  0.017172  0.144805  0.769451  0.497425  0.077625 -0.027161  \n",
       "10003   0.292668  0.652501  0.656895  0.172539 -0.143816  0.287689  0.213292  \n",
       "100035  0.328670  0.127565  0.140862  0.442408  0.286417  0.122609 -0.028630  \n",
       "100039  0.079623  0.467876  0.640574 -0.105737 -0.270808  0.320915  0.265737  \n",
       "100042  0.706866  0.549142  0.284744  0.682829  0.376825  0.652485  0.510134  \n",
       "\n",
       "[5 rows x 8715 columns]"
      ]
     },
     "execution_count": 8,
     "metadata": {},
     "output_type": "execute_result"
    }
   ],
   "source": [
    "dists.head()"
   ]
  },
  {
   "cell_type": "markdown",
   "metadata": {},
   "source": [
    "### Load track info"
   ]
  },
  {
   "cell_type": "code",
   "execution_count": 9,
   "metadata": {},
   "outputs": [],
   "source": [
    "with open(r\"final_data.pkl\", \"rb\") as input_file:\n",
    "    tracks = pickle.load(input_file)"
   ]
  },
  {
   "cell_type": "markdown",
   "metadata": {},
   "source": [
    "I downloaded and processed data for more than 9 genres in the end, so I just need to filter out the genres I didn't end up using."
   ]
  },
  {
   "cell_type": "code",
   "execution_count": 10,
   "metadata": {
    "collapsed": true
   },
   "outputs": [],
   "source": [
    "parent_genres = ['Breakbeat', 'Dancehall/Ragga', 'Downtempo', 'Drum And Bass', \n",
    "                'Funky House', 'Hip Hop/R&B', 'Minimal House','Rock/Indie', 'Trance']"
   ]
  },
  {
   "cell_type": "code",
   "execution_count": 11,
   "metadata": {},
   "outputs": [],
   "source": [
    "tracks = tracks[tracks['parent_genre'].isin(parent_genres)]"
   ]
  },
  {
   "cell_type": "code",
   "execution_count": 13,
   "metadata": {},
   "outputs": [
    {
     "data": {
      "text/html": [
       "<div>\n",
       "<table border=\"1\" class=\"dataframe\">\n",
       "  <thead>\n",
       "    <tr style=\"text-align: right;\">\n",
       "      <th></th>\n",
       "      <th>id</th>\n",
       "      <th>release_artist</th>\n",
       "      <th>release_cat_num</th>\n",
       "      <th>release_date</th>\n",
       "      <th>release_genre</th>\n",
       "      <th>release_label</th>\n",
       "      <th>release_title</th>\n",
       "      <th>track_name</th>\n",
       "      <th>track_url</th>\n",
       "      <th>parent_genre</th>\n",
       "    </tr>\n",
       "  </thead>\n",
       "  <tbody>\n",
       "    <tr>\n",
       "      <th>17116</th>\n",
       "      <td>132282</td>\n",
       "      <td>ARISEN FLAME</td>\n",
       "      <td>ASOT 230</td>\n",
       "      <td>30 Sep 13</td>\n",
       "      <td>Uplifting Trance</td>\n",
       "      <td>A State Of Trance Holland</td>\n",
       "      <td>Gladius</td>\n",
       "      <td>Gladius (original mix) - (7:26)</td>\n",
       "      <td>http://www.junodownload.com/MP3/SF2301945-02-0...</td>\n",
       "      <td>Trance</td>\n",
       "    </tr>\n",
       "    <tr>\n",
       "      <th>17936</th>\n",
       "      <td>28057</td>\n",
       "      <td>ABSOLUTE</td>\n",
       "      <td>ASOT 035</td>\n",
       "      <td>30 Sep 04</td>\n",
       "      <td>Uplifting Trance</td>\n",
       "      <td>A State Of Trance Holland</td>\n",
       "      <td>Day Dream</td>\n",
       "      <td>Day Dream (original mix) - (9:40)</td>\n",
       "      <td>http://www.junodownload.com/MP3/SF1270951-02-0...</td>\n",
       "      <td>Trance</td>\n",
       "    </tr>\n",
       "    <tr>\n",
       "      <th>13218</th>\n",
       "      <td>415459</td>\n",
       "      <td>D-UNITY</td>\n",
       "      <td>TER 02</td>\n",
       "      <td>05 May 07</td>\n",
       "      <td>Minimal/Tech House</td>\n",
       "      <td>Tigereye Recordings</td>\n",
       "      <td>The Tribal Fury EP</td>\n",
       "      <td>Children Of House (Tigereye Ritual dub) - (7:57)</td>\n",
       "      <td>http://www.junodownload.com/MP3/SF3229864-02-0...</td>\n",
       "      <td>Minimal House</td>\n",
       "    </tr>\n",
       "    <tr>\n",
       "      <th>994</th>\n",
       "      <td>74317</td>\n",
       "      <td>ALEX WICKED</td>\n",
       "      <td>SPK 268</td>\n",
       "      <td>21 Nov 16</td>\n",
       "      <td>Breakbeat</td>\n",
       "      <td>Spektra</td>\n",
       "      <td>Warlock - Wolf</td>\n",
       "      <td>Warlock - (4:50)</td>\n",
       "      <td>http://www.junodownload.com/MP3/SF3243299-02-0...</td>\n",
       "      <td>Breakbeat</td>\n",
       "    </tr>\n",
       "    <tr>\n",
       "      <th>5520</th>\n",
       "      <td>174235</td>\n",
       "      <td>BACKSTREET CHEMIST</td>\n",
       "      <td>JC 0025</td>\n",
       "      <td>08 Aug 12</td>\n",
       "      <td>Drum And Bass</td>\n",
       "      <td>Just Cause Recordings</td>\n",
       "      <td>Notational Sedation</td>\n",
       "      <td>Notational Sedation - (5:13)</td>\n",
       "      <td>http://www.junodownload.com/MP3/SF2023427-02-0...</td>\n",
       "      <td>Drum And Bass</td>\n",
       "    </tr>\n",
       "  </tbody>\n",
       "</table>\n",
       "</div>"
      ],
      "text/plain": [
       "           id      release_artist release_cat_num release_date  \\\n",
       "17116  132282        ARISEN FLAME        ASOT 230    30 Sep 13   \n",
       "17936   28057            ABSOLUTE        ASOT 035    30 Sep 04   \n",
       "13218  415459             D-UNITY          TER 02    05 May 07   \n",
       "994     74317         ALEX WICKED         SPK 268    21 Nov 16   \n",
       "5520   174235  BACKSTREET CHEMIST         JC 0025    08 Aug 12   \n",
       "\n",
       "            release_genre              release_label        release_title  \\\n",
       "17116    Uplifting Trance  A State Of Trance Holland              Gladius   \n",
       "17936    Uplifting Trance  A State Of Trance Holland            Day Dream   \n",
       "13218  Minimal/Tech House        Tigereye Recordings   The Tribal Fury EP   \n",
       "994             Breakbeat                    Spektra       Warlock - Wolf   \n",
       "5520        Drum And Bass      Just Cause Recordings  Notational Sedation   \n",
       "\n",
       "                                             track_name  \\\n",
       "17116                   Gladius (original mix) - (7:26)   \n",
       "17936                 Day Dream (original mix) - (9:40)   \n",
       "13218  Children Of House (Tigereye Ritual dub) - (7:57)   \n",
       "994                                    Warlock - (4:50)   \n",
       "5520                       Notational Sedation - (5:13)   \n",
       "\n",
       "                                               track_url   parent_genre  \n",
       "17116  http://www.junodownload.com/MP3/SF2301945-02-0...         Trance  \n",
       "17936  http://www.junodownload.com/MP3/SF1270951-02-0...         Trance  \n",
       "13218  http://www.junodownload.com/MP3/SF3229864-02-0...  Minimal House  \n",
       "994    http://www.junodownload.com/MP3/SF3243299-02-0...      Breakbeat  \n",
       "5520   http://www.junodownload.com/MP3/SF2023427-02-0...  Drum And Bass  "
      ]
     },
     "execution_count": 13,
     "metadata": {},
     "output_type": "execute_result"
    }
   ],
   "source": [
    "tracks.sample(5)"
   ]
  },
  {
   "cell_type": "markdown",
   "metadata": {},
   "source": [
    "### Make recommendations"
   ]
  },
  {
   "cell_type": "code",
   "execution_count": 14,
   "metadata": {},
   "outputs": [],
   "source": [
    "selected_song_id = '132282'"
   ]
  },
  {
   "cell_type": "code",
   "execution_count": 15,
   "metadata": {},
   "outputs": [],
   "source": [
    "recommendations = dists[str(selected_song_id)].sort_values(ascending=False).reset_index()"
   ]
  },
  {
   "cell_type": "code",
   "execution_count": 16,
   "metadata": {},
   "outputs": [
    {
     "data": {
      "text/html": [
       "<div>\n",
       "<table border=\"1\" class=\"dataframe\">\n",
       "  <thead>\n",
       "    <tr style=\"text-align: right;\">\n",
       "      <th></th>\n",
       "      <th>index</th>\n",
       "      <th>132282</th>\n",
       "    </tr>\n",
       "  </thead>\n",
       "  <tbody>\n",
       "    <tr>\n",
       "      <th>0</th>\n",
       "      <td>132282</td>\n",
       "      <td>1.000000</td>\n",
       "    </tr>\n",
       "    <tr>\n",
       "      <th>1</th>\n",
       "      <td>53831</td>\n",
       "      <td>0.965931</td>\n",
       "    </tr>\n",
       "    <tr>\n",
       "      <th>2</th>\n",
       "      <td>29064</td>\n",
       "      <td>0.960896</td>\n",
       "    </tr>\n",
       "    <tr>\n",
       "      <th>3</th>\n",
       "      <td>246948</td>\n",
       "      <td>0.957631</td>\n",
       "    </tr>\n",
       "    <tr>\n",
       "      <th>4</th>\n",
       "      <td>341720</td>\n",
       "      <td>0.956003</td>\n",
       "    </tr>\n",
       "  </tbody>\n",
       "</table>\n",
       "</div>"
      ],
      "text/plain": [
       "    index    132282\n",
       "0  132282  1.000000\n",
       "1   53831  0.965931\n",
       "2   29064  0.960896\n",
       "3  246948  0.957631\n",
       "4  341720  0.956003"
      ]
     },
     "execution_count": 16,
     "metadata": {},
     "output_type": "execute_result"
    }
   ],
   "source": [
    "recommendations.head(5)"
   ]
  },
  {
   "cell_type": "code",
   "execution_count": 17,
   "metadata": {},
   "outputs": [],
   "source": [
    "top_5_recs = list(recommendations.head(6)['index'])[1:]"
   ]
  },
  {
   "cell_type": "code",
   "execution_count": 18,
   "metadata": {},
   "outputs": [
    {
     "data": {
      "text/plain": [
       "['53831', '29064', '246948', '341720', '249363']"
      ]
     },
     "execution_count": 18,
     "metadata": {},
     "output_type": "execute_result"
    }
   ],
   "source": [
    "top_5_recs"
   ]
  },
  {
   "cell_type": "code",
   "execution_count": 19,
   "metadata": {},
   "outputs": [],
   "source": [
    "d_list = []\n",
    "for r in top_5_recs:\n",
    "    df = tracks[tracks['id'] == int(r)]    \n",
    "    d = df.to_dict(orient='records')\n",
    "    d_list.append(d)"
   ]
  },
  {
   "cell_type": "code",
   "execution_count": 20,
   "metadata": {
    "scrolled": false
   },
   "outputs": [
    {
     "data": {
      "text/plain": [
       "[[{'id': 53831,\n",
       "   'parent_genre': 'Trance',\n",
       "   'release_artist': 'AIMOON',\n",
       "   'release_cat_num': 'ETR 106',\n",
       "   'release_date': '23 May 11',\n",
       "   'release_genre': 'Uplifting Trance',\n",
       "   'release_label': 'Eternity Recordings',\n",
       "   'release_title': 'Aimoonia',\n",
       "   'track_name': 'Aimoonia - (8:27)',\n",
       "   'track_url': 'http://www.junodownload.com/MP3/SF1750757-02-01-01.mp3'}],\n",
       " [{'id': 29064,\n",
       "   'parent_genre': 'Trance',\n",
       "   'release_artist': 'GAL ABUTBUL feat PHILLIPA JOY',\n",
       "   'release_cat_num': 'AMSTR 020',\n",
       "   'release_date': '22 Apr 13',\n",
       "   'release_genre': 'Uplifting Trance',\n",
       "   'release_label': 'Amsterdam Trance',\n",
       "   'release_title': \"Don't Mind Waiting\",\n",
       "   'track_name': \"Don't Mind Waiting (original mix) - (5:56)\",\n",
       "   'track_url': 'http://www.junodownload.com/MP3/SF2185776-02-01-01.mp3'}],\n",
       " [{'id': 246948,\n",
       "   'parent_genre': 'Trance',\n",
       "   'release_artist': 'BLUSKAY',\n",
       "   'release_cat_num': 'AEZ 075',\n",
       "   'release_date': '14 Feb 14',\n",
       "   'release_genre': 'Uplifting Trance',\n",
       "   'release_label': 'AEZ Recordings',\n",
       "   'release_title': 'Finding My Way',\n",
       "   'track_name': 'Finding My Way (original mix) - (6:31)',\n",
       "   'track_url': 'http://www.junodownload.com/MP3/SF2401738-02-01-01.mp3'}],\n",
       " [{'id': 341720,\n",
       "   'parent_genre': 'Trance',\n",
       "   'release_artist': 'JIMMY CHOU',\n",
       "   'release_cat_num': 'INOV 084',\n",
       "   'release_date': '11 Nov 13',\n",
       "   'release_genre': 'Uplifting Trance',\n",
       "   'release_label': 'Inov8',\n",
       "   'release_title': 'Luminance',\n",
       "   'track_name': 'Luminance (original mix) - (7:59)',\n",
       "   'track_url': 'http://www.junodownload.com/MP3/SF2333862-02-01-01.mp3'}],\n",
       " [{'id': 249363,\n",
       "   'parent_genre': 'Trance',\n",
       "   'release_artist': 'BOBINA & BETSIE LARKIN',\n",
       "   'release_cat_num': 'MM 1022-0',\n",
       "   'release_date': '13 May 13',\n",
       "   'release_genre': 'Uplifting Trance',\n",
       "   'release_label': 'Magik Muzik Holland',\n",
       "   'release_title': 'No Substitute For You (remixes)',\n",
       "   'track_name': 'No Substitute For You (Tom Fall remix) - (7:32)',\n",
       "   'track_url': 'http://www.junodownload.com/MP3/SF2191855-02-01-01.mp3'}]]"
      ]
     },
     "execution_count": 20,
     "metadata": {},
     "output_type": "execute_result"
    }
   ],
   "source": [
    "d_list"
   ]
  },
  {
   "cell_type": "code",
   "execution_count": null,
   "metadata": {
    "collapsed": true
   },
   "outputs": [],
   "source": []
  }
 ],
 "metadata": {
  "kernelspec": {
   "display_name": "Python 3",
   "language": "python",
   "name": "python3"
  },
  "language_info": {
   "codemirror_mode": {
    "name": "ipython",
    "version": 3
   },
   "file_extension": ".py",
   "mimetype": "text/x-python",
   "name": "python",
   "nbconvert_exporter": "python",
   "pygments_lexer": "ipython3",
   "version": "3.5.2"
  }
 },
 "nbformat": 4,
 "nbformat_minor": 2
}
