{
 "cells": [
  {
   "cell_type": "markdown",
   "metadata": {},
   "source": [
    "# Test classification model against holdout data"
   ]
  },
  {
   "cell_type": "markdown",
   "metadata": {},
   "source": [
    "### Imports"
   ]
  },
  {
   "cell_type": "code",
   "execution_count": 1,
   "metadata": {},
   "outputs": [
    {
     "name": "stderr",
     "output_type": "stream",
     "text": [
      "Using TensorFlow backend.\n"
     ]
    }
   ],
   "source": [
    "from keras import backend as K\n",
    "from keras.models import load_model\n",
    "from keras.models import Sequential\n",
    "from keras.layers.core import Flatten, Dense, Dropout, Activation\n",
    "from keras.optimizers import rmsprop\n",
    "from keras.models import Sequential\n",
    "from keras.preprocessing.image import ImageDataGenerator, array_to_img, img_to_array, load_img\n",
    "from keras.layers import Conv2D, MaxPooling2D, ZeroPadding2D\n",
    "from keras.layers import Input, Dense\n",
    "import os\n",
    "import heapq\n",
    "import numpy as np\n",
    "import pandas as pd\n",
    "import matplotlib.pyplot as plt\n",
    "import numpy as np\n",
    "%matplotlib inline"
   ]
  },
  {
   "cell_type": "markdown",
   "metadata": {},
   "source": [
    "### Functions"
   ]
  },
  {
   "cell_type": "code",
   "execution_count": 2,
   "metadata": {
    "collapsed": true
   },
   "outputs": [],
   "source": [
    "def get_genre(s):\n",
    "    genre = s.split('/')[0]\n",
    "    return genre\n",
    "\n",
    "def get_song_id(s):\n",
    "    id = s.split('__')[1]\n",
    "    return id\n",
    "\n",
    "def get_spect_num(s):\n",
    "    spect = s.split('__')[2]\n",
    "    return spect\n",
    "\n",
    "def get_class_name(s):\n",
    "    s = int(s.split('_')[1])\n",
    "    return y[s]\n",
    "\n",
    "def class_num_to_name(s):\n",
    "    return y[s]\n",
    "\n",
    "def convert_sum_of_prob(s):\n",
    "    s = dict(s)\n",
    "    return float(s['sum_of_prob'])"
   ]
  },
  {
   "cell_type": "markdown",
   "metadata": {},
   "source": [
    "### Load model"
   ]
  },
  {
   "cell_type": "code",
   "execution_count": 5,
   "metadata": {
    "collapsed": true
   },
   "outputs": [],
   "source": [
    "prediction_data_dir = 'holdout_data/'\n",
    "model = load_model('music_genre_classifier.hdf5')"
   ]
  },
  {
   "cell_type": "code",
   "execution_count": 7,
   "metadata": {
    "collapsed": true
   },
   "outputs": [],
   "source": [
    "num_classes = 9\n",
    "image_size = 256\n",
    "batch_size = 128\n",
    "\n",
    "if K.image_data_format() == 'channels_first':\n",
    "    input_shape = (3, image_size, image_size)\n",
    "else:\n",
    "    input_shape = (image_size, image_size, 3)"
   ]
  },
  {
   "cell_type": "markdown",
   "metadata": {},
   "source": [
    "### Generate holdout predictions"
   ]
  },
  {
   "cell_type": "markdown",
   "metadata": {},
   "source": [
    "In order to get a full understanding of the accuracy of the model I will need to sum the probabilities for all images belonging to a single track. For example, if there are 23 spectrogram images for a song, I need to collect all probabilities for all 23 images, then work out the 'full picture' by aggregating these probabilities and finding out what the top prediction was."
   ]
  },
  {
   "cell_type": "code",
   "execution_count": 8,
   "metadata": {},
   "outputs": [
    {
     "name": "stdout",
     "output_type": "stream",
     "text": [
      "Found 19266 images belonging to 9 classes.\n"
     ]
    }
   ],
   "source": [
    "prediction_datagen = ImageDataGenerator(rescale=1./255)\n",
    "\n",
    "prediction_generator = prediction_datagen.flow_from_directory(\n",
    "    prediction_data_dir,\n",
    "    target_size=(image_size, image_size),\n",
    "    batch_size=batch_size,\n",
    "    shuffle=False,\n",
    "    class_mode='categorical'\n",
    "    )"
   ]
  },
  {
   "cell_type": "code",
   "execution_count": 9,
   "metadata": {},
   "outputs": [
    {
     "name": "stdout",
     "output_type": "stream",
     "text": [
      "150/150 [==============================] - 179s     \b\b\b\b\b\b\b\b\b\b\b\b\b\b\b\b\b\b\b\b\b\b\b\b\b\b\b\b\b\b\b\b\b\b\b\b\b\b\b\b\b\b\b\b\b\b\b\b\b\b\b\b\b\b\b\b\b\b\b\b\b\b\b\b\b\b\b\b\b\b\b\b\b\b\b\b\b\b\b\b\b\b\b\b\b\b\b\b\b\b\b\b\b\b\b\b\b\b\b\b\b\b\b\b\b\b\b\b\b\b\b\b\b\b\b\b\b\b\b\b\b\b\b\b\b\b\b\b\b\b\b\b\b\b\b\b\b\b\b\b\b\b\b\b\b\b\b\b\b\b\b\b\b\b\b\b\b\b\b\b\b\b\b\b\b\b\b\b\b\b\b\b\b\b\b\b\b\b\b\b\b\b\b\b\b\b\b\b\b\b\b\b\b\b\b\b\b\b\b\b\b\b\b\b\b\b\b\b\b\b\b\b\b\b\b\b\b\b\b\b\b\b\b\b\b\b\b\b\b\b\b\b\b\b\b\b\b\b\b\b\b\b\b\b\b\b\b\b\b\b\b\b\b\b\b\b\b\b\b\b\b\b\b\b\b\b\b\b\b\b\b\b\b\b\b\b\b\b\b\b\b\b\b\b\b\b\b\b\b\b\b\b\b\b\b\b\b\b\b\b\b\b\b\b\b\b\b\b\b\b\b\b\b\b\b\b\b\b\b\b\b\b\b\b\b\b\b\b\b\b\b\b\b\b\b\b\b\b\b\b\b\b\b\b\b\b\b\b\b\b\b\b\b\b\b\b\b\b\b\b\b\b\b\b\b\b\b\b\b\b\b\b\b\b\b\b\b\b\b\b\b\b\b\b\b\b\b\b\b\b\b\b\b\b\b\b\b\b\b\b\b\b\b\b\b\b\b\b\b\b\b\b\b\b\b\b\b\b\b\b\b\b\b\b\b\b\b\b\b\b\b\b\b\b\b\b\b\b\b\b\b\b\b\b\b\b\b\b\b\b\b\b\b\b\b\b\b\b\b\b\b\b\b\b\b\b\b\b\b\b\b\b\b\b\b\b\b\b\b\b\b\b\b\b\b\b\b\b\b\b\b\b\b\b\b\b\b\b\b\b\b\b\b\b\b\b\b\b\b\b\b\b\b\b\b\b\b\b\b\b\b\b\b\b\b\b\b\b\b\b\b\b\b\b\b\b\b\b\b\b\b\b\b\b\b\b\b\b\b\b\b\b\b\b\b\b\b\b\b\b\b\b\b\b\b\b\b\b\b\b\b\b\b\b\b\b\b\b\b\b\b\b\b\b\b\b\b\b\b\b\b\b\b\b\b\b\b\b\b\b\b\b\b\b\b\b\b\b\b\b\b\b\b\b\b\b\b\b\b\b\b\b\b\b\b\b\b\b\b\b\b\b\b\b\b\b\b\b\b\b\b\b\b\b\b\b\b\b\b\b\b\b\b\b\b\b\b\b\b\b\b\b\b\b\b\b\b\b\b\b\b\b\b\b\b\b\b\b\b\b\b\b\b\b\b\b\b\b\b\b\b\b\b\b\b\b\b\b\b\b\b\b\b\b\b\b\b\b\b\b\b\b\b\b\b\b\b\b\b\b\b\b\b\b\b\b\b\b\b\b\b\b\b\b\b\b\b\b\b\b\b\b\b\b\b\b\b\b\b\b\b\b\b\b\b\b\b\b\b\b\b\b\b\b\b\b\b\b\b\b\b\b\b\b\b\b\b\b\b\b\b\b\b\b\b\b\b\b\b\b\b\b\b\b\b\b\b\b\b\b\b\b\b\b\b\b\b\b\b\b\b\b\b\b\b\b\b\b\b\b\b\b\b\b\b\b\b\b\b\b\b\b\b\b\b\b\b\b\b\b\b\b\b\b\b\b\b\b\b\b\b\b\b\b\b\b\b\b\b\b\b\b\b\b\b\b\b\b\b\b\b\b\b\b\b\b\b\b\b\b\b\b\b\b\b\b\b\b\b\b\b\b\b\b\b\b\b\b\b\b\b\b\b\b\b\b\b\b\b\b\b\b\b\b\b\b\b\b\b\b\b\b\b\b\b\b\b\b\b\b\b\b\b\b\b\b\b\b\b\b\b\b\b\b\b\b\b\b\b\b\b\b\b\b\b\b\b\b\b\b\b\b\b\b\b\b\b\b\b\b\b\b\b\b\b\b\b\b\b\b\b\b\b\b\b\b\b\b\b\b\b\b\b\b\b\b\b\b\b\b\b\b\b\b\b\b\b\b\b\b\b\b\b\b\b\b\b\b\b\b\b\b\b\b\b\b\b\b\b\b\b\b\b\b\b\b\b\b\b\b\b\b\b\b\b\b\b\b\b\b\b\b\b\b\b\b\b\b\b\b\b\b\b\b\b\b\b\b\b\b\b\b\b\b\b\b\b\b\b\b\b\b\b\b\b\b\b\b\b\b\b\b\b\b\b\b\b\b\b\b\b\b\b\b\b\b\b\b\b\b\b\b\b\b\b\b\b\b\b\b\b\b\b\b\b\b\b\b\b\b\b\b\b\b\b\b\b\b\b\b\b\b\b\b\b\b\b\b\b\b\b\b\b\b\b\b\b\b\b\b\b\b\b\b\b\b\b\b\b\b\b\b\b\b\b\b\b\b\b\b\b\b\b\b\b\b\b\b\b\b\b\b\b\b\b\b\b\b\b\b\b\b\b\b\b\b\b\b\b\b\b\b\b\b\b\b\b\b\b\b\b\b\b\b\b\b\b\b\b\b\b\b\b\b\b\b\b\b\b\b\b\b\b\b\b\b\b\b\b\b\b\b\b\b\b\b\b\b\b\b\b\b\b\b\b\b\b\b\b\b\b\b\b\b\b\b\b\b\b\b\b\b\b\b\b\b\b\b\b\b\b\b\b\b\b\b\b\b\b\b\b\b\b\b\b\b\b\b\b\b\b\b\b\b\b\b\b\b\b\b\b\b\b\b\b\b\b\b\b\b\b\b\b\b\b\b\b\b\b\b\b\b\b\b\b\b\b\b\b\b\b\b\b\b\b\b\b\b\b\b\b\b\b\b\b\b\b\b\b\b\b\b\b\b\b\b\b\b\b\b\b\b\b\b\b\b\b\b\b\b\b\b\b\b\b\b\b\b\b\b\b\b\b\b\b\b\b\b\b\b\b\b\b\b\b\b\b\b\b\b\b\b\b\b\b\b\b\b\b\b\b\b\b\b\b\b\b\b\b\b\b\b\b\b\b\b\b\b\b\b\b\b\b\b\b\b\b\b\b\b\b\b\b\b\b\b\b\b\b\b\b\b\b\b\b\b\b\b\b\b\b\b\b\b\b\b\b\b\b\b\b\b\b\b\b\b\b\b\b\b\b\b\b\b\b\b\b\b\b\b\b\b\b\b\b\b\b\b\b\b\b\b\b\b\b\b\b\b\b\b\b\b\b\b\b\b\b\b\b\b\b\b\b\b\b\b\b\b\b\b\b\b\b\b\b\b\b\b\b\b\b\b\b\b\b\b\b\b\b\b\b\b\b\b\b\b\b\b\b\b\b\b\b\b\b\b\b\b\b\b\b\b\b\b\b\b\b\b\b\b\b\b\b\b\b\b\b\b\b\b\b\b\b\b\b\b\b\b\b\b\b\b\b\b\b\b\b\b\b\b\b\b\b\b\b\b\b\b\b\b\b\b\b\b\b\b\b\b\b\b\b\b\b\b\b\b\b\b\b\b\b\b\b\b\b\b\b\b\b\b\b\b\b\b\b\b\b\b\b\b\b\b\b\b\b\b\b\b\b\b\b\b\b\b\b\b\b\b\b\b\b\b\b\b\b\b\b\b\b\b\b\b\b\b\b\b\b\b\b\b\b\b\b\b\b\b\b\b\b\b\b\b\b\b\b\b\b\b\b\b\b\b\b\b\b\b\b\b\b\b\b\b\b\b\b\b\b\b\b\b\b\b\b\b\b\b\b\b\b\b\b\b\b\b\b\b\b\b\b\b\b\b\b\b\b\b\b\b\b\b\b\b\b\b\b\b\b\b\b\b\b\b\b\b\b\b\b\b\b\b\b\b\b\b\b\b\b\b\b\b\b\b\b\b\b\b\b\b\b\b\b\b\b\b\b\b\b\b\b\b\b\b\b\b\b\b\b\b\b\b\b\b\b\b\b\b\b\b\b\b\b\b\b\b\b\b\b\b\b\b\b\b\b\b\b\b\b\b\b\b\b\b\b\b\b\b\b\b\b\b\b\b\b\b\b\b\b\b\b\b\b\b\b\b\b\b\b\b\b\b\b\b\b\b\b\b\b\b\b\b\b\b\b\b\b\b\b\b\b\b\b\b\b\b\b\b\b\b\b\b\b\b\b\b\b\b\b\b\b\b\b\b\b\b\b\b\b\b\b\b\b\b\b\b\b\b\b\b\b\b\b\b\b\b\b\b\b\b\b\b\b\b\b\b\b\b\b\b\b\b\b\b\b\b\b\b\b\b\b\b\b\b\b\b\b\b\b\b\b\b\b\b\b\b\b\b\b\b\b\b\b\b\b\b\b\b\b\b\b\b\b\b\b\b\b\b\b\b\b\b\b\b\b\b\b\b\b\b\b\b\b\b\b\b\b\b\b\b\b\b\b\b\b\b\b\b\b\b\b\b\b\b\b\b\b\b\b\b\b\b\b\b\b\b\b\b\b\b\b\b\b\b\b\b\b\b\b\b\b\b\b\b\b\b\b\b\b\b\b\b\b\b\b\b\b\b\b\b\b\b\b\b\b\b\b\b\b\b\b\b\b\b\b\b\b\b\b\b\b\b\b\b\b\b\b\b\b\b\b\b\b\b\b\b\b\b\b\b\b\b\b\b\b\b\b\b\b\b\b\b\b\b\b\b\b\b\b\b\b\b\b\b\b\b\b\b\b\b\b\b\b\b\b\b\b\b\b\b\b\b\b\b\b\b\b\b\b\b\b\b\b\b\b\b\b\b\b\b\b\b\b\b\b\b\b\b\b\b\b\b\b\b\b\b\b\b\b\b\b\b\b\b\b\b\b\b\b\b\b\b\b\b\b\b\b\b\b\b\b\b\b\b\b\b\b\b\b\b\b\b\b\b\b\b\b\b\b\b\b\b\b\b\b\b\b\b\b\b\b\b\b\b\b\b\b\b\b\b\b\b\b\b\b\b\b\b\b\b\b\b\b\b\b\b\b\b\b\b\b\b\b\b\b\b\b\b\b\b\b\b\b\b\b\b\b\b\b\b\b\b\b\b\b\b\b\b\b\b\b\b\b\b\b\b\b\b\b\b\b\b\b\b\b\b\b\b\b\b\b\b\b\b\b\b\b\b\b\b\b\b\b\b\b\b\b\b\b\b\b\b\b\b\b\b\b\b\b\b\b\b\b\b\b\b\b\b\b\b\b\b\b\b\b\b\b\b\b\b\b\b\b\b\b\b\b\b\b\b\b\b\b\b\b\b\b\b\b\b\b\b\b\b\b\b\b\b\b\b\b\b\b\b\b\b\b\b\b\b\b\b\b\b\b\b\b\b\b\b\b\b\b\b\b\b\b\b\b\b\b\b\b\b\b\b\b\b\b\b\b\b\b\b\b\b\b\b\b\b\b\b\b\b\b\b\b\b\b\b\b\b\b\b\b\b\b\b\b\b\b\b\b\b\b\b\b\b\b\b\b\b\b\b\b\b\b\b\b\b\b\b\b\b\b\b\b\b\b\b\b\b\b\b\b\b\b\b\b\b\b\b\b\b\b\b\b\b\b\b\b\b\b\b\b\b\b\b\b\b\b\b\b\b\b\b\b\b\b\b\b\b\b\b\b\b\b\b\b\b\b\b\b\b\b\b\b\b\b\b\b\b\b\b\b\b\b\b\b\b\b\b\b\b\b\b\b\b\b\b\b\b\b\b\b\b\b\b\b\b\b\b\b\b\b\b\b\b\b\b\b\b\b\b\b\b\b\b\b\b\b\b\b\b\b\b\b\b\b\b\b\b\b\b\b\b\b\b\b\b\b\b\b\b\b\b\b\b\b\b\b\b\b\b\b\b\b\b\b\b\b\b\b\b\b\b\b\b\b\b\b\b\b\b\b\b\b\b\b\b\b\b\b\b\b\b\b\b\b\b\b\b\b\b\b\b\b\b\b\b\b\b\b\b\b\b\b\b\b\b\b\b\b\b\b\b\b\b\b\b\b\b\b\b\b\b\b\b\b\b\b\b\b\b\b\b\b\b\b\b\b\b\b\b\b\b\b\b\b\b\b\b\b\b\b\b\b\b\b\b\b\b\b\b\b\b\b\b\b\b\b\b\b\b\b\b\b\b\b\b\b\b\b\b\b\b\b\b\b\b\b\b\b\b\b\b\b\b\b\b\b\b\b\b\b\b\b\b\b\b\b\b\b\b\b\b\b\b\b\b\b\b\b\b\b\b\b\b\b\b\b\b\b\b\b\b\b\b\b\b\b\b\b\b\b\b\b\b\b\b\b\b\b\b\b\b\b\b\b\b\b\b\b\b\b\b\b\b\b\b\b\b\b\b\b\b\b\b\b\b\b\b\b\b\b\b\b\b\b\b\b\b\b\b\b\b\b\b\b\b\b\b\b\b\b\b\b\b\b\b\b\b\b\b\b\b\b\b\b\b\b\b\b\b\b\b\b\b\b\b\b\b\b\b\b\b\b\b\b\b\b\b\b\b\b\b\b\b\b\b\b\b\b\b\b\b\b\b\b\b\b\b\b\b\b\b\b\b\b\b\b\b\b\b\b\b\b\b\b\b\b\b\b\b\b\b\b\b\b\b\b\b\b\b\b\b\b\b\b\b\b\b\b\b\b\b\b\b\b\b\b\b\b\b\b\b\b\b\b\b\b\b\b\b\b\b\b\b\b\b\b\b\b\b\b\b\b\b\b\b\b\b\b\b\b\b\b\b\b\b\b\b\b\b\b\b\b\b\b\b\b\b\b\b\b\b\b\b\b\b\b\b\b\b\b\b\b\b\b\b\b\b\b\b\b\b\b\b\b\b\b\b\b\b\b\b\b\b\b\b\b\b\b\b\b\b\b\b\b\b\b\b\b\b\b\b\b\b\b\b\b\b\b\b\b\b\b\b\b\b\b\b\b\b\b\b\b\b\b\b\b\b\b\b\b\b\b\b\b\b\b\b\b\b\b\b\b\b\b\b\b\b\b\b\b\b\b\b\b\b\b\b\b\b\b\b\b\b\b\b\b\b\b\b\b\b\b\b\b\b\b\b\b\b\b\b\b\b\b\b\b\b\b\b\b\b\b\b\b\b\b\b\b\b\b\b\b\b\b\b\b\b\b\b\b\b\b\b\b\b\b\b\b\b\b\b\b\b\b\b\b\b\b\b\b\b\b\b\b\b\b\b\b\b\b\b\b\b\b\b\b\b\b\b\b\b\b\b\b\b\b\b\b\b\b\b\b\b\b\b\b\b\b\b\b\b\b\b\b\b\b\b\b\b\b\b\b\b\b\b\b\b\b\b\b\b\b\b\b\b\b\b\b\b\b\b\b\b\b\b\b\b\b\b\b\b\b\b\b\b\b\b\b\b\b\b\b\b\b\b\b\b\b\b\b\b\b\b\b\b\b\b\b\b\b\b\b\b\b\b\b\b\b\b\b\b\b\b\b\b\b\b\b\b\b\b\b\b\b\b\b\b\b\b\b\b\b\b\b\b\b\b\b\b\b\b\b\b\b\b\b\b\b\b\b\b\b\b\b\b\b\b\b\b\b\b\b\b\b\b\b\b\b\b\b\b\b\b\b\b\b\b\b\b\b\b\b\b\b\b\b\b\b\b\b\b\b\b\b\b\b\b\b\b\b\b\b\b\b\b\b\b\b\b\b\b\b\b\b\b\b\b\b\b\b\b\b\b\b\b\b\b\b\b\b\b\b\b\b\b\b\b\b\b\b\b\b\b\b\b\b\b\b\b\b\b\b\b\b\b\b\b\b\b\b\b\b\b\b\b\b\b\b\b\b\b\b\b\b\b\b\b\b\b\b\b\b\b\b\b\b\b\b\b\b\b\b\b\b\b\b\b\b\b\b\b\b\b\b\b\b\b\b\b\b\b\b\b\b\b\b\b\b\b\b\b\b\b\b\b\b\b\b\b\b\b\b\b\b\b\b\b\b\b\b\b\b\b\b\b\b\b\b\b\b\b\b\b\b\b\b\b\b\b\b\b\b\b\b\b\b\b\b\b\b\b\b\b\b\b\b\b\b\b\b\b\b\b\b\b\b\b\b\b\b\b\b\b\b\b\b\b\b\b\b\b\b\b\b\b\b\b\b\b\b\b\b\b\b\b\b\b\b\b\b\b\b\b\b\b\b\b\b\b\b\b\b\b\b\b\b\b\b\b\b\b\b\b\b\b\b\b\b\b\b\b\b\b\b\b\b\b\b\b\b\b\b\b\b\b\b\b\b\b\b\b\b\b\b\b\b\b\b\b\b\b\b\b\b\b\b\b\b\b\b\b\b\b\b\b\b\b\b\b\b\b\b\b\b\b\b\b\b\b\b\b\b\b\b\b\b\b\b\b\b\b\b\b\b\b\b\b\b\b\b\b\b\b\b\b\b\b\b\b\b\b\b\b\b\b\b\b\b\b\b\b\b\b\b\b\b\b\b\b\b\b\b\b\b\b\b\b\b\b\b\b\b\b\b\b\b\b\b\b\b\b\b\b\b\b\b\b\b\b\b\b\b\b\b\b\b\b\b\b\b\b\b\b\b\b\b\b\b\b\b\b\b\b\b\b\b\b\b\b\b\b\b\b\b\b\b\b\b\b\b\b\b\b\b\b\b\b\b\b\b\b\b\b\b\b\b\b\b\b\b\b\b\b\b\b\b\b\b\b\b\b\b\b\b\b\b\b\b\b\b\b\b\b\b\b\b\b\b\b\b\b\b\b\b\b\b\b\b\b\b\b\b\b\b\b\b\b\b\b\b\b\b\b\b\b\b\b\b\b\b\b\b\b\b\b\b\b\b\b\b\b\b\b\b\b\b\b\b\b\b\b\b\b\b\b\b\b\b\b\b\b\b\b\b\b\b\b\b\b\b\b\b\b\b\b\b\b\b\b\b\b\b\b\b\b\b\b\b\b\b\b\b\b\b\b\b\b\b\b\b\b\b\b\b\b\b\b\b\b\b\b\b\b\b\b\b\b\b\b\b\b\b\b\b\b\b\b\b\b\b\b\b\b\b\b\b\b\b\b\b\b\b\b\b\b\b\b\b\b\b\b\b\b\b\b\b\b\b\b\b\b\b\b\b\b\b\b\b\b\b\b\b\b\b\b\b\b\b\b\b\b\b\b\b\b\b\b\b\b\b\b\b\b\b\b\b\b\b\b\b\b\b\b\b\b\b\b\b\b\b\b\b\b\b\b\b\b\b\b\b\b\b\b\b\b\b\b\b\b\b\b\b\b\b\b\b\b\b\b\b\b\b\b\b\b\b\b\b\b\b\b\b\b\b\b\b\b\b\b\b\b\b\b\b\b\b\b\b\b\b\b\b\b\b\b\b\b\b\b\b\b\b\b\b\b\b\b\b\b\b\b\b\b\b\b\b\b\b\b\b\b\b\b\b\b\b\b\b\b\b\b\b\b\b\b\b\b\b\b\b\b\b\b\b\b\b\b\b\b\b\b\b\b\b\b\b\b\b\b\b\b\b\b\b\b\b\b\b\b\b\b\b\b\b\b\b\b\b\b\b\b\b\b\b\b\b\b\b\b\b\b\b\b\b\b\b\b\b\b\b\b\b\b\b\b\b\b\b\b\b\b\b\b\b\b\b\b\b\b\b\b\b\b\b\b\b\b\b\b\b\b\b\b\b\b\b\b\b\b\b\b\b\b\b\b\b\b\b\b\b\b\b\b\b\b\b\b\b\b\b\b\b\b\b\b\b\b\b\b\b\b\b\b\b\b\b\b\b\b\b\b\b\b\b\b\b\b\b\b\b\b\b\b\b\b\b\b\b\b\b\b\b\b\b\b\b\b\b\b\b\b\b\b\b\b\b\b\b\b\b\b\b\b\b\b\b\b\b\b\b\b\b\b\b\b\b\b\b\b\b\b\b\b\b\b\b\b\b\b\b\b\b\b\b\b\b\b\b\b\b\b\b\b\b\b\b\b\b\b\b\b\b\b\b\b\b\b\b\b\b\b\b\b\b\b\b\b\b\b\b\b\b\b\b\b\b\b\b\b\b\b\b\b\b\b\b\b\b\b\b\b\b\b\b\b\b\b\b\b\b\b\b\b\b\b\b\b\b\b\b\b\b\b\b\b\b\b\b\b\b\b\b\b\b\b\b\b\b\b\b\b\b\b\b\b\b\b\b\b\b\b\b\b\b\b\b\b\b\b\b\b\b\b\b\b\b\b\b\b\b\b\b\b\b\b\b\b\b\b\b\b\b\b\b\b\b\b\b\b\b\b\b\b\b\b\b\b\b\b\b\b\b\b\b\b\b\b\b\b\b\b\b\b\b\b\b\b\b\b\b\b\b\b\b\b\b\b\b\b\b\b\b\b\b\b\b\b\b\b\b\b\b\b\b\b\b\b\b\b\b\b\b\b\b\b\b\b\b\b\b\b\b\b\b\b\b\b\b\b\b\b\b\b\b\b\b\b\b\b\b\b\b\b\b\b\b\b\b\b\b\b\b\b\b\b\b\b\b\b\b\b\b\b\b\b\b\b\b\b\b\b\b\b\b\b\b\b\b\b\b\b\b\b\b\b\b\b\b\b\b\b\b\b\b\b\b\b\b\b\b\b\b\b\b\b\b\b\b\b\b\b\b\b\b\b\b\b\b\b\b\b\b\b\b\b\b\b\b\b\b\b\b\b\b\b\b\b\b\b\b\b\b\b\b\b\b\b\b\b\b\b\b\b\b\b\b\b\b\b\b\b\b\b\b\b\b\b\b\b\b\b\b\b\b\b\b\b\b\b\b\b\b\b\b\b\b\b\b\b\b\b\b\b\b\b\b\b\b\b\b\b\b\b\b\b\b\b\b\b\b\b\b\b\b\b\b\b\b\b\b\b\b\b\b\b\b\b\b\b\b\b\b\b\b\b\b\b\b\b\b\b\b\b\b\b\b\b\b\b\b\b\b\b\b\b\b\b\b\b\b\b\b\b\b\b\b\b\b\b\b\b\b\b\b\b\b\b\b\b\b\b\b\b\b\b\b\b\b\b\b\b\b\b\b\b\b\b\b\b\b\b\b\b\b\b\b\b\b\b\b\b\b\b\b\b\b\b\b\b\b\b\b\b\b\b\b\b\b\b\b\b\b\b\b\b\b\b\b\b\b\b\b\b\b\b\b\b\b\b\b\b\b\b\b\b\b\b\b\b\b\b\b\b\b\b\b\b\b\b\b\b\b\b\b\b\b\b\b\b\b\b\b\b\b\b\b\b\b\b\b\b\b\b\b\b\b\b\b\b\b\b\b\b\b\b\b\b\b\b\b\b\b\b\b\b\b\b\b\b\b\b\b\b\b\b\b\b\b\b\b\b\b\b\b\b\b\b\b\b\b\b\b\b\b\b\b\b\b\b\b\b\b\b\b\b\b\b\b\b\b\b\b\b\b\b\b\b\b\b\b\b\b\b\b\b\b\b\b\b\b\b\b\b\b\b\b\b\b\b\b\b\b\b\b\b\b\b\b\b\b\b\b\b\b\b\b\b\b\b\b\b\b\b\b\b\b\b\b\b\b\b\b\b\b\b\b\b\b\b\b\b\b\b\b\b\b\b\b\b\b\b\b\b\b\b\b\b\b\b\b\b\b\b\b\b\b\b\b\b\b\b\b\b\b\b\b\b\b\b\b\b\b\b\b\b\b\b\b\b\b\b\b\b\b\b\b\b\b\b\b\b\b\b\b\b\b\b\b\b\b\b\b\b\b\b\b\b\b\b\b\b\b\b\b\b\b\b\b\b\b\b\b\b\b\b\b\b\b\b\b\b\b\b\b\b\b\b\b\b\b\b\b\b\b\b\b\b\b\b\b\b\b\b\b\b\b\b\b\b\b\b\b\b\b\b\b\b\b\b\b\b\b\b\b\b\b\b\b\b\b\b\b\b\b\b\b\b\b\b\b\b\b\b\b\b\b\b\b\b\b\b\b\b\b\b\b\b\b\b\b\b\b\b\b\b\b\b\b\b\b\b\b\b\b\b\b\b\b\b\b\b\b\b\b\b\b\b\b\b\b\b\b\b\b\b\b\b\b\b\b\b\b\b\b\b\b\b\b\b\b\b\b\b\b\b\b\b\b\b\b\b\b\b\b\b\b\b\b\b\b\b\b\b\b\b\b\b\b\b\b\b\b\b\b\b\b\b\b\b\b\b\b\b\b\b\b\b\b\b\b\b\b\b\b\b\b\b\b\b\b\b\b\b\b\b\b\b\b\b\b\b\b\b\b\b\b\b\b\b\b\b\b\b\b\b\b\b\b\b\b\b\b\b\b\b\b\b\b\b\b\b\b\b\b\b\b\b\b\b\b\b\b\b\b\b\b\b\b\b\b\b\b\b\b\b\b\b\b\b\b\b\b\b\b\b\b\b\b\b\b\b\b\b\b\b\b\b\b\b\b\b\b\b\b\b\b\b\b\b\b\b\b\b\b\b\b\b\b\b\b\b\b\b\b\b\b\b\b\b\b\b\b\b\b\b\b\b\b\b\b\b\b\b\b\b\b\b\b\b\b\b\b\b\b\b\b\b\b\b\b\b\b\b\b\b\b\b\b\b\b\b\b\b\b\b\b\b\b\b\b\b\b\b\b\b\b\b\b\b\b\b\b\b\b\b\b\b\b\b\b\b\b\b\b\b\b\b\b\b\b\b\b\b\b\b\b\b\b\b\b\b\b\b\b\b\b\b\b\b\b\b\b\b\b\b\b\b\b\b\b\b\b\b\b\b\b\b\b\b\b\b\b\b\b\b\b\b\b\b\b\b\b\b\b\b\b\b\b\b\b\b\b\b\b\b\b\b\b\b\b\b\b\b\b\b\b\b\b\b\b\b\b\b\b\b\b\b\b\b\b\b\b\b\b\b\b\b\b\b\b\b\b\b\b\b\b\b\b\b\b\b\b\b\b\b\b\b\b\b\b\b\b\b\b\b\b\b\b\b\b\b\b\b\b\b\b\b\b\b\b\b\b\b\b\b\b\b\b\b\b\b\b\b\b\b\b\b\b\b\b\b\b\b\b\b\b\b\b\b\b\b\b\b\b\b\b\b\b\b\b\b\b\b\b\b\b\b\b\b\b\b\b\b\b\b\b\b\b\b\b\b\b\b\b\b\b\b\b\b\b\b\b\b\b\b\b\b\b\b\b\b\b\b\b\b\b\b\b\b\b\b\b\b\b\b\b\b\b\b\b\b\b\b\b\b\b\b\b\b\b\b\b\b\b\b\b\b\b\b\b\b\b\b\b\b\b\b\b\b\b\b\b\b\b\b\b\b\b\b\b\b\b\b\b\b\b\b\b\b\b\b\b\b\b\b\b\b\b\b\b\b\b\b\b\b\b\b\b\b\b\b\b\b\b\b\b\b\b\b\b\b\b\b\b\b\b\b\b\b\b\b\b\b\b\b\b\b\b\b\b\b\b\b\b\b\b\b\b\b\b\b\b\b\b\b\b\b\b\b\b\b\b\b\b\b\b\b\b\b\b\b\b\b\b\b\b\b\b\b\b\b\b\b\b\b\b\b\b\b\b\b\b\b\b\b\b\b\b\b\b\b\b\b\b\b\b\b\b\b\b\b\b\b\b\b\b\b\b\b\b\b\b\b\b\b\b\b\b\b\b\b\b\b\b\b\b\b\b\b\b\b\b\b\b\b\b\b\b\b\b\b\b\b\b\b\b\b\b\b\b\b\b\b\b\b\b\b\b\b\b\b\b\b\b\b\b\b\b\b\b\b\b\b\b\b\b\b\b\b\b\b\b\b\b\b\b\b\b\b\b\b\b\b\b\b\b\b\b\b\b\b\b\b\b\b\b\b\b\b\b\b\b\b\b\b\b\b\b\b\b\b\b\b\b\b\b\b\b\b\b\b\b\b\b\b\b\b\b\b\b\b\b\b\b\b\b\b\b\b\b\b\b\b\b\b\b\b\b\b\b\b\b\b\b\b\b\b\b\b\b\b\b\b\b\b\b\b\b\b\b\b\b\b\b\b\b\b\b\b\b\b\b\b\b\b\b\b\b\b\b\b\b\b\b\b\b\b\b\b\b\b\b\b\b\b\b\b\b\b\b\b\b\b\b\b\b\b\b\b\b\b\b\b\b\b\b\b\b\b\b\b\b\b\b\b\b\b\b\b\b\b\b\b\b\b\b\b\b\b\b\b\b\b\b\b\b\b\b\b\b\b\b\b\b\b\b\b\b\b\b\b\b\b\b\b\b\b\b\b\b\b\b\b\b\b\b\b\b\b\b\b\b\b\b\b\b\b\b\b\b\b\b\b\b\b\b\b\b\b\b\b\b\b\b\b\b\b\b\b\b\b\b\b\b\b\b\b\b\b\b\b\b\b\b\b\b\b\b\b\b\b\b\b\b\b\b\b\b\b\b\b\b\b\b\b\b\b\b\b\b\b\b\b\b\b\b\b\b\b\b\b\b\b\b\b\b\b\b\b\b\b\b\b\b\b\b\b\b\b\b\b\b\b\b\b\b\b\b\b\b\b\b\b\b\b\b\b\b\b\b\b\b\b\b\b\b\b\b\b\b\b\b\b\b\b\b\b\b\b\b\b\b\b\b\b\b\b\b\b\b\b\b\b\b\b\b\b\b\b\b\b\b\b\b\b\b\b\b\b\b\b\b\b\b\b\b\b\b\b\b\b\b\b\b\b\b\b\b\b\b\b\b\b\b\b\b\b\b\b\b\b\b\b\b\b\b\b\b\b\b\b\b\b\b\b\b\b\b\b\b\b\b\b\b\b\b\b\b\b\b\b\b\b\b\b\b\b\b\b\b\b\b\b\b\b\b\b\b\b\b\b\b\b\b\b\b\b\b\b\b\b\b\b\b\b\b\b\b\b\b\b\b\b\b\b\b\b\b\b\b\b\b\b\b\b\b\b\b\b\b\b\b\b\b\b\b\b\b\b\b\b\b\b\b\b\b\b\b\b\b\b\b\b\b\b\b\b\b\b\b\b\b\b\b\b\b\b\b\b\b\b\b\b\b\b\b\b\b\b\b\b\b\b\b\b\b\b\b\b\b\b\b\b\b\b\b\b\b\b\b\b\b\b\b\b\b\b\b\b\b\b\b\b\b\b\b\b\b\b\b\b\b\b\b\b\b\b\b\b\b\b\b\b\b\b\b\b\b\b\b\b\b\b\b\b\b\b\b\b\b\b\b\b\b\b\b\b\b\b\b\b\b\b\b\b\b\b\b\b\b\b\b\b\b\b\b\b\b\b\b\b\b\b\b\b\b\b\b\b\b\b\b\b\b\b\b\b\b\b\b\b\b\b\b\b\b\b\b\b\b\b\b\b\b\b\b\b\b\b\b\b\b\b\b\b\b\b\b\b\b\b\b\b\b\b\b\b\b\b\b\b\b\b\b\b\b\b\b\b\b\b\b\b\b\b\b\b\b\b\b\b\b\b\b\b\b\b\b\b\b\b\b\b\b\b\b\b\b\b\b\b\b\b\b\b\b\b\b\b\b\b\b\b\b\b\b\b\b\b\b\b\b\b\b\b\b\b\b\b\b\b\b\b\b\b\b\b\b\b\b\b\b\b\b\b\b\b\b\b\b\b\b\b\b\b\b\b\b\b\b\b\b\b\b\b\b\b\b\b\b\b\b\b\b\b\b\b\b\b\b\b\b\b\b\b\b\b\b\b\b\b\b\b\b\b\b\b\b\b\b\b\b\b\b\b\b\b\b\b\b\b\b\b\b\b\b\b\b\b\b\b\b\b\b\b\b\b\b\b\b\b\b\b\b\b\b\b\b\b\b\b\b\b\b\b\b\b\b\b\b\b\b\b\b\b\b\b\b\b\b\b\b\b\b\b\b\b\b\b\b\b\b\b\b\b\b\b\b\b\b\b\b\b\b\b\b\b\b\b\b\b\b\b\b\b\b\b\b\b\b\b\b\b\b\b\b\b\b\b\b\b\b\b\b\b\b\b\b\b\b\b\b\b\b\b\b\b\b\b\b\b\b\b\b\b\b\b\b\b\b\b\b\b\b\b\b\b\b\b\b\b\b\b\b\b\b\b\b\b\b\b\b\b\b\b\b\b\b\b\b\b\b\b\b\b\b\b\b\b\b\b\b\b\b\b\b\b\b\b\b\b\b\b\b\b\b\b\b\b\b\b\b\b\b\b\b\b\b\b\b\b\b\b\b\b\b\b\b\b\b\b\b\b\b\b\b\b\b\b\b\b\b\b\b\b\b\b\b\b\b\b\b\b\b\b\b\b\b\b\b\b\b\b\b\b\b\b\b\b\b\b\b\b\b\b\b\b\b\b\b\b\b\b\b\b\b\b\b\b\b\b\b\b\b\b\b\b\b\b\b\b\b\b\b\b\b\b\b\b\b\b\b\b\b\b\b\b\b\b\b\b\b\b\b\b\b\b\b\b\b\b\b\b\b\b\b\b\b\b\b\b\b\b\b\b\b\b\b\b\b\b\b\b\b\b\b\b\b\b\b\b\b\b\b\b\b\b\b\b\b\b\b\b\b\b\b\b\b\b\b\b\b\b\b\b\b\b\b\b\b\b\b\b\b\b\b\b\b\b\b\b\b\b\b\b\b\b\b\b\b\b\b\b\b\b\b\b\b\b\b\b\b\b\b\b\b\b\b\b\b\b\b\b\b\b\b\b\b\b\b\b\b\b\b\b\b\b\b\b\b\b\b\b\b\b\b\b\b\b\b\b\b\b\b\b\b\b\b\b\b\b\b\b\b\b\b\b\b\b\b\b\b\b\b\b\b\b\b\b\b\b\b\b\b\b\b\b\b\b\b\b\b\b\b\b\b\b\b\b\b\b\b\b\b\b\b\b\b\b\b\b\b\b\b\b\b\b\b\b\b\b\b\b\b\b\b\b\b\b\b\b\b\b\b\b\b\b\b\b\b\b\b\b\b\b\b\b\b\b\b\b\b\b\b\b\b\b\b\b\b\b\b\b\b\b\b\b\b\b\b\b\b\b\b\b\b\b\b\b\b\b\b\b\b\b\n"
     ]
    }
   ],
   "source": [
    "prediction = model.predict_generator(prediction_generator, steps=(19266 // batch_size), verbose=1)"
   ]
  },
  {
   "cell_type": "code",
   "execution_count": 10,
   "metadata": {
    "collapsed": true
   },
   "outputs": [],
   "source": [
    "labels = list(prediction_generator.class_indices.keys())"
   ]
  },
  {
   "cell_type": "code",
   "execution_count": 11,
   "metadata": {
    "collapsed": true
   },
   "outputs": [],
   "source": [
    "y = dict(zip(list(range(num_classes)), labels))"
   ]
  },
  {
   "cell_type": "code",
   "execution_count": 12,
   "metadata": {},
   "outputs": [
    {
     "data": {
      "text/plain": [
       "{0: 'breakbeat',\n",
       " 1: 'dancehall_ragga',\n",
       " 2: 'downtempo',\n",
       " 3: 'drum_and_bass',\n",
       " 4: 'funky_house',\n",
       " 5: 'hip_hop_rnb',\n",
       " 6: 'minimal_house',\n",
       " 7: 'rock_indie',\n",
       " 8: 'trance'}"
      ]
     },
     "execution_count": 12,
     "metadata": {},
     "output_type": "execute_result"
    }
   ],
   "source": [
    "y"
   ]
  },
  {
   "cell_type": "markdown",
   "metadata": {},
   "source": [
    "Store all predictions for each image into a list:"
   ]
  },
  {
   "cell_type": "code",
   "execution_count": 13,
   "metadata": {
    "collapsed": true
   },
   "outputs": [],
   "source": [
    "all_predictions = []\n",
    "for i in range(len(prediction)):\n",
    "    p = heapq.nlargest(num_classes, enumerate(prediction[i]), key=lambda x: x[1])\n",
    "    all_predictions.append(p)"
   ]
  },
  {
   "cell_type": "code",
   "execution_count": 14,
   "metadata": {
    "collapsed": true
   },
   "outputs": [],
   "source": [
    "# Get list of image file names\n",
    "spect_file_names = []\n",
    "for file in prediction_generator.filenames:\n",
    "    spect_file_names.append(file)"
   ]
  },
  {
   "cell_type": "code",
   "execution_count": 15,
   "metadata": {},
   "outputs": [],
   "source": [
    "# zip image file name with probability breakdowns\n",
    "file_and_predictions = list(zip(spect_file_names, all_predictions))"
   ]
  },
  {
   "cell_type": "code",
   "execution_count": 16,
   "metadata": {},
   "outputs": [
    {
     "data": {
      "text/plain": [
       "[('breakbeat/breakbeat__73191__000.png',\n",
       "  [(0, 0.4868046),\n",
       "   (3, 0.13068154),\n",
       "   (1, 0.12670746),\n",
       "   (5, 0.091813236),\n",
       "   (4, 0.073000759),\n",
       "   (2, 0.040806711),\n",
       "   (6, 0.025267966),\n",
       "   (7, 0.018976049),\n",
       "   (8, 0.0059416713)])]"
      ]
     },
     "execution_count": 16,
     "metadata": {},
     "output_type": "execute_result"
    }
   ],
   "source": [
    "file_and_predictions[0:1]"
   ]
  },
  {
   "cell_type": "code",
   "execution_count": 17,
   "metadata": {},
   "outputs": [],
   "source": [
    "# transfer the data into a DataFrame and tidy up the data\n",
    "tmp_df = pd.DataFrame(file_and_predictions)\n",
    "tmp_df.columns = ['file_name','predictions']\n",
    "tmp_df['actual_genre'] = tmp_df['file_name'].apply(get_genre)\n",
    "tmp_df['song_id'] = tmp_df['file_name'].apply(get_song_id)\n",
    "tmp_df['spect_num'] = tmp_df['file_name'].apply(get_spect_num)\n",
    "tmp_df.drop('file_name', axis=1, inplace=True)"
   ]
  },
  {
   "cell_type": "code",
   "execution_count": 18,
   "metadata": {},
   "outputs": [
    {
     "data": {
      "text/html": [
       "<div>\n",
       "<table border=\"1\" class=\"dataframe\">\n",
       "  <thead>\n",
       "    <tr style=\"text-align: right;\">\n",
       "      <th></th>\n",
       "      <th>predictions</th>\n",
       "      <th>actual_genre</th>\n",
       "      <th>song_id</th>\n",
       "      <th>spect_num</th>\n",
       "    </tr>\n",
       "  </thead>\n",
       "  <tbody>\n",
       "    <tr>\n",
       "      <th>0</th>\n",
       "      <td>[(0, 0.486805), (3, 0.130682), (1, 0.126707), ...</td>\n",
       "      <td>breakbeat</td>\n",
       "      <td>73191</td>\n",
       "      <td>000.png</td>\n",
       "    </tr>\n",
       "    <tr>\n",
       "      <th>1</th>\n",
       "      <td>[(0, 0.405314), (1, 0.35501), (5, 0.104498), (...</td>\n",
       "      <td>breakbeat</td>\n",
       "      <td>73191</td>\n",
       "      <td>001.png</td>\n",
       "    </tr>\n",
       "    <tr>\n",
       "      <th>2</th>\n",
       "      <td>[(1, 0.629078), (0, 0.13335), (5, 0.129786), (...</td>\n",
       "      <td>breakbeat</td>\n",
       "      <td>73191</td>\n",
       "      <td>002.png</td>\n",
       "    </tr>\n",
       "    <tr>\n",
       "      <th>3</th>\n",
       "      <td>[(1, 0.815709), (5, 0.146341), (0, 0.0230003),...</td>\n",
       "      <td>breakbeat</td>\n",
       "      <td>73191</td>\n",
       "      <td>003.png</td>\n",
       "    </tr>\n",
       "    <tr>\n",
       "      <th>4</th>\n",
       "      <td>[(1, 0.482411), (4, 0.177705), (5, 0.171473), ...</td>\n",
       "      <td>breakbeat</td>\n",
       "      <td>73191</td>\n",
       "      <td>004.png</td>\n",
       "    </tr>\n",
       "  </tbody>\n",
       "</table>\n",
       "</div>"
      ],
      "text/plain": [
       "                                         predictions actual_genre song_id  \\\n",
       "0  [(0, 0.486805), (3, 0.130682), (1, 0.126707), ...    breakbeat   73191   \n",
       "1  [(0, 0.405314), (1, 0.35501), (5, 0.104498), (...    breakbeat   73191   \n",
       "2  [(1, 0.629078), (0, 0.13335), (5, 0.129786), (...    breakbeat   73191   \n",
       "3  [(1, 0.815709), (5, 0.146341), (0, 0.0230003),...    breakbeat   73191   \n",
       "4  [(1, 0.482411), (4, 0.177705), (5, 0.171473), ...    breakbeat   73191   \n",
       "\n",
       "  spect_num  \n",
       "0   000.png  \n",
       "1   001.png  \n",
       "2   002.png  \n",
       "3   003.png  \n",
       "4   004.png  "
      ]
     },
     "execution_count": 18,
     "metadata": {},
     "output_type": "execute_result"
    }
   ],
   "source": [
    "tmp_df.head()"
   ]
  },
  {
   "cell_type": "code",
   "execution_count": 19,
   "metadata": {},
   "outputs": [],
   "source": [
    "unique_song_ids = list(tmp_df['song_id'].unique())"
   ]
  },
  {
   "cell_type": "code",
   "execution_count": 20,
   "metadata": {},
   "outputs": [
    {
     "data": {
      "text/plain": [
       "['73191', '74093', '74109', '74299', '74307', '74311']"
      ]
     },
     "execution_count": 20,
     "metadata": {},
     "output_type": "execute_result"
    }
   ],
   "source": [
    "unique_song_ids[0:6]"
   ]
  },
  {
   "cell_type": "markdown",
   "metadata": {},
   "source": [
    "Loop through each track in the dataframe and store sum of class predictions in a dictionary."
   ]
  },
  {
   "cell_type": "code",
   "execution_count": 21,
   "metadata": {
    "collapsed": true
   },
   "outputs": [],
   "source": [
    "song_predictions_dict = {}"
   ]
  },
  {
   "cell_type": "code",
   "execution_count": 22,
   "metadata": {},
   "outputs": [],
   "source": [
    "for song in unique_song_ids:\n",
    "    l = list(tmp_df[tmp_df['song_id'] == song]['predictions'])\n",
    "    l = [item for sublist in l for item in sublist]\n",
    "    \n",
    "    # creates a dictionary of all the probability values for each genre for a specific track\n",
    "    class_probs = dict()\n",
    "    for f in l:\n",
    "        class_num = f[0]\n",
    "        class_name = class_num_to_name(class_num)\n",
    "        class_prob = f[1]\n",
    "        if class_name in class_probs:\n",
    "            class_probs[class_name].append(class_prob)\n",
    "        else:\n",
    "            class_probs[class_name] = [class_prob]\n",
    "    \n",
    "    # now store the sums of this data into the song_predictions_dict using song_id as the key\n",
    "    genre_dict = {}\n",
    "    for genre in class_probs.keys():\n",
    "        d = {\n",
    "            'sum_of_prob':sum(class_probs[genre])\n",
    "            }\n",
    "        \n",
    "        genre_dict[genre] = d\n",
    "    \n",
    "    song_predictions_dict[song] = genre_dict"
   ]
  },
  {
   "cell_type": "code",
   "execution_count": 23,
   "metadata": {},
   "outputs": [
    {
     "data": {
      "text/plain": [
       "{'breakbeat': {'sum_of_prob': 15.485807754099369},\n",
       " 'dancehall_ragga': {'sum_of_prob': 0.40356463479656668},\n",
       " 'downtempo': {'sum_of_prob': 0.27277979874634184},\n",
       " 'drum_and_bass': {'sum_of_prob': 1.0843666558503173},\n",
       " 'funky_house': {'sum_of_prob': 1.4116746964864433},\n",
       " 'hip_hop_rnb': {'sum_of_prob': 0.86915496045548934},\n",
       " 'minimal_house': {'sum_of_prob': 0.3322015489829937},\n",
       " 'rock_indie': {'sum_of_prob': 0.50900403872947209},\n",
       " 'trance': {'sum_of_prob': 2.6314460313878953}}"
      ]
     },
     "execution_count": 23,
     "metadata": {},
     "output_type": "execute_result"
    }
   ],
   "source": [
    "song_predictions_dict['74093']"
   ]
  },
  {
   "cell_type": "code",
   "execution_count": 24,
   "metadata": {},
   "outputs": [
    {
     "data": {
      "text/plain": [
       "{'breakbeat': {'sum_of_prob': 6.2423023153096437},\n",
       " 'dancehall_ragga': {'sum_of_prob': 7.4230044297873974},\n",
       " 'downtempo': {'sum_of_prob': 0.93571153946686536},\n",
       " 'drum_and_bass': {'sum_of_prob': 2.1506282689515501},\n",
       " 'funky_house': {'sum_of_prob': 1.0640672014851589},\n",
       " 'hip_hop_rnb': {'sum_of_prob': 4.0336373886093497},\n",
       " 'minimal_house': {'sum_of_prob': 0.17466602692729793},\n",
       " 'rock_indie': {'sum_of_prob': 0.71399763729277765},\n",
       " 'trance': {'sum_of_prob': 0.26198558195028454}}"
      ]
     },
     "execution_count": 24,
     "metadata": {},
     "output_type": "execute_result"
    }
   ],
   "source": [
    "song_predictions_dict['73191']"
   ]
  },
  {
   "cell_type": "code",
   "execution_count": 25,
   "metadata": {},
   "outputs": [],
   "source": [
    "df_sum_probs = pd.DataFrame.from_dict(song_predictions_dict, orient='index').reset_index()"
   ]
  },
  {
   "cell_type": "code",
   "execution_count": 26,
   "metadata": {},
   "outputs": [
    {
     "data": {
      "text/html": [
       "<div>\n",
       "<table border=\"1\" class=\"dataframe\">\n",
       "  <thead>\n",
       "    <tr style=\"text-align: right;\">\n",
       "      <th></th>\n",
       "      <th>index</th>\n",
       "      <th>breakbeat</th>\n",
       "      <th>drum_and_bass</th>\n",
       "      <th>dancehall_ragga</th>\n",
       "      <th>hip_hop_rnb</th>\n",
       "      <th>funky_house</th>\n",
       "      <th>downtempo</th>\n",
       "      <th>minimal_house</th>\n",
       "      <th>rock_indie</th>\n",
       "      <th>trance</th>\n",
       "    </tr>\n",
       "  </thead>\n",
       "  <tbody>\n",
       "    <tr>\n",
       "      <th>0</th>\n",
       "      <td>428650</td>\n",
       "      <td>{'sum_of_prob': 4.10746110138}</td>\n",
       "      <td>{'sum_of_prob': 0.41520630123}</td>\n",
       "      <td>{'sum_of_prob': 8.42639565794}</td>\n",
       "      <td>{'sum_of_prob': 4.57485647779}</td>\n",
       "      <td>{'sum_of_prob': 1.34636493772}</td>\n",
       "      <td>{'sum_of_prob': 0.358994856026}</td>\n",
       "      <td>{'sum_of_prob': 0.222413361305}</td>\n",
       "      <td>{'sum_of_prob': 1.30894568554}</td>\n",
       "      <td>{'sum_of_prob': 2.23936167749}</td>\n",
       "    </tr>\n",
       "    <tr>\n",
       "      <th>1</th>\n",
       "      <td>428652</td>\n",
       "      <td>{'sum_of_prob': 0.170717336528}</td>\n",
       "      <td>{'sum_of_prob': 0.0582605770469}</td>\n",
       "      <td>{'sum_of_prob': 7.75840958208}</td>\n",
       "      <td>{'sum_of_prob': 14.7442003936}</td>\n",
       "      <td>{'sum_of_prob': 0.091962097762}</td>\n",
       "      <td>{'sum_of_prob': 0.100306822322}</td>\n",
       "      <td>{'sum_of_prob': 0.0243674241547}</td>\n",
       "      <td>{'sum_of_prob': 0.0500449305691}</td>\n",
       "      <td>{'sum_of_prob': 0.00173062102579}</td>\n",
       "    </tr>\n",
       "    <tr>\n",
       "      <th>2</th>\n",
       "      <td>428656</td>\n",
       "      <td>{'sum_of_prob': 0.819452046766}</td>\n",
       "      <td>{'sum_of_prob': 0.074765845301}</td>\n",
       "      <td>{'sum_of_prob': 10.7249140143}</td>\n",
       "      <td>{'sum_of_prob': 10.6443867087}</td>\n",
       "      <td>{'sum_of_prob': 0.352652344445}</td>\n",
       "      <td>{'sum_of_prob': 0.0913896150232}</td>\n",
       "      <td>{'sum_of_prob': 0.0548552668261}</td>\n",
       "      <td>{'sum_of_prob': 0.222235039691}</td>\n",
       "      <td>{'sum_of_prob': 0.0153485667097}</td>\n",
       "    </tr>\n",
       "    <tr>\n",
       "      <th>3</th>\n",
       "      <td>428659</td>\n",
       "      <td>{'sum_of_prob': 0.255360172887}</td>\n",
       "      <td>{'sum_of_prob': 0.611347321457}</td>\n",
       "      <td>{'sum_of_prob': 12.1666831747}</td>\n",
       "      <td>{'sum_of_prob': 6.03037010878}</td>\n",
       "      <td>{'sum_of_prob': 0.305300723034}</td>\n",
       "      <td>{'sum_of_prob': 2.25140022545}</td>\n",
       "      <td>{'sum_of_prob': 0.153904794421}</td>\n",
       "      <td>{'sum_of_prob': 1.18166395184}</td>\n",
       "      <td>{'sum_of_prob': 0.0439688810457}</td>\n",
       "    </tr>\n",
       "    <tr>\n",
       "      <th>4</th>\n",
       "      <td>428664</td>\n",
       "      <td>{'sum_of_prob': 0.785700174747}</td>\n",
       "      <td>{'sum_of_prob': 0.125477448804}</td>\n",
       "      <td>{'sum_of_prob': 5.90105446428}</td>\n",
       "      <td>{'sum_of_prob': 12.036060378}</td>\n",
       "      <td>{'sum_of_prob': 0.278910861351}</td>\n",
       "      <td>{'sum_of_prob': 0.526555568445}</td>\n",
       "      <td>{'sum_of_prob': 0.0651680387964}</td>\n",
       "      <td>{'sum_of_prob': 3.25425500516}</td>\n",
       "      <td>{'sum_of_prob': 0.0268181300016}</td>\n",
       "    </tr>\n",
       "  </tbody>\n",
       "</table>\n",
       "</div>"
      ],
      "text/plain": [
       "    index                        breakbeat                     drum_and_bass  \\\n",
       "0  428650   {'sum_of_prob': 4.10746110138}    {'sum_of_prob': 0.41520630123}   \n",
       "1  428652  {'sum_of_prob': 0.170717336528}  {'sum_of_prob': 0.0582605770469}   \n",
       "2  428656  {'sum_of_prob': 0.819452046766}   {'sum_of_prob': 0.074765845301}   \n",
       "3  428659  {'sum_of_prob': 0.255360172887}   {'sum_of_prob': 0.611347321457}   \n",
       "4  428664  {'sum_of_prob': 0.785700174747}   {'sum_of_prob': 0.125477448804}   \n",
       "\n",
       "                  dancehall_ragga                     hip_hop_rnb  \\\n",
       "0  {'sum_of_prob': 8.42639565794}  {'sum_of_prob': 4.57485647779}   \n",
       "1  {'sum_of_prob': 7.75840958208}  {'sum_of_prob': 14.7442003936}   \n",
       "2  {'sum_of_prob': 10.7249140143}  {'sum_of_prob': 10.6443867087}   \n",
       "3  {'sum_of_prob': 12.1666831747}  {'sum_of_prob': 6.03037010878}   \n",
       "4  {'sum_of_prob': 5.90105446428}   {'sum_of_prob': 12.036060378}   \n",
       "\n",
       "                       funky_house                         downtempo  \\\n",
       "0   {'sum_of_prob': 1.34636493772}   {'sum_of_prob': 0.358994856026}   \n",
       "1  {'sum_of_prob': 0.091962097762}   {'sum_of_prob': 0.100306822322}   \n",
       "2  {'sum_of_prob': 0.352652344445}  {'sum_of_prob': 0.0913896150232}   \n",
       "3  {'sum_of_prob': 0.305300723034}    {'sum_of_prob': 2.25140022545}   \n",
       "4  {'sum_of_prob': 0.278910861351}   {'sum_of_prob': 0.526555568445}   \n",
       "\n",
       "                      minimal_house                        rock_indie  \\\n",
       "0   {'sum_of_prob': 0.222413361305}    {'sum_of_prob': 1.30894568554}   \n",
       "1  {'sum_of_prob': 0.0243674241547}  {'sum_of_prob': 0.0500449305691}   \n",
       "2  {'sum_of_prob': 0.0548552668261}   {'sum_of_prob': 0.222235039691}   \n",
       "3   {'sum_of_prob': 0.153904794421}    {'sum_of_prob': 1.18166395184}   \n",
       "4  {'sum_of_prob': 0.0651680387964}    {'sum_of_prob': 3.25425500516}   \n",
       "\n",
       "                              trance  \n",
       "0     {'sum_of_prob': 2.23936167749}  \n",
       "1  {'sum_of_prob': 0.00173062102579}  \n",
       "2   {'sum_of_prob': 0.0153485667097}  \n",
       "3   {'sum_of_prob': 0.0439688810457}  \n",
       "4   {'sum_of_prob': 0.0268181300016}  "
      ]
     },
     "execution_count": 26,
     "metadata": {},
     "output_type": "execute_result"
    }
   ],
   "source": [
    "df_sum_probs.head()"
   ]
  },
  {
   "cell_type": "code",
   "execution_count": 27,
   "metadata": {},
   "outputs": [],
   "source": [
    "df_sum_probs['breakbeat'] = df_sum_probs['breakbeat'].apply(convert_sum_of_prob)\n",
    "df_sum_probs['drum_and_bass'] = df_sum_probs['drum_and_bass'].apply(convert_sum_of_prob)\n",
    "df_sum_probs['dancehall_ragga'] = df_sum_probs['dancehall_ragga'].apply(convert_sum_of_prob)\n",
    "df_sum_probs['hip_hop_rnb'] = df_sum_probs['hip_hop_rnb'].apply(convert_sum_of_prob)\n",
    "df_sum_probs['funky_house'] = df_sum_probs['funky_house'].apply(convert_sum_of_prob)\n",
    "df_sum_probs['downtempo'] = df_sum_probs['downtempo'].apply(convert_sum_of_prob)\n",
    "df_sum_probs['minimal_house'] = df_sum_probs['minimal_house'].apply(convert_sum_of_prob)\n",
    "df_sum_probs['rock_indie'] = df_sum_probs['rock_indie'].apply(convert_sum_of_prob)\n",
    "df_sum_probs['trance'] = df_sum_probs['trance'].apply(convert_sum_of_prob)\n",
    "df_sum_probs = df_sum_probs.rename(columns={'index':'song_id'})"
   ]
  },
  {
   "cell_type": "code",
   "execution_count": 28,
   "metadata": {},
   "outputs": [
    {
     "data": {
      "text/html": [
       "<div>\n",
       "<table border=\"1\" class=\"dataframe\">\n",
       "  <thead>\n",
       "    <tr style=\"text-align: right;\">\n",
       "      <th></th>\n",
       "      <th>song_id</th>\n",
       "      <th>breakbeat</th>\n",
       "      <th>drum_and_bass</th>\n",
       "      <th>dancehall_ragga</th>\n",
       "      <th>hip_hop_rnb</th>\n",
       "      <th>funky_house</th>\n",
       "      <th>downtempo</th>\n",
       "      <th>minimal_house</th>\n",
       "      <th>rock_indie</th>\n",
       "      <th>trance</th>\n",
       "    </tr>\n",
       "  </thead>\n",
       "  <tbody>\n",
       "    <tr>\n",
       "      <th>0</th>\n",
       "      <td>428650</td>\n",
       "      <td>4.107461</td>\n",
       "      <td>0.415206</td>\n",
       "      <td>8.426396</td>\n",
       "      <td>4.574856</td>\n",
       "      <td>1.346365</td>\n",
       "      <td>0.358995</td>\n",
       "      <td>0.222413</td>\n",
       "      <td>1.308946</td>\n",
       "      <td>2.239362</td>\n",
       "    </tr>\n",
       "    <tr>\n",
       "      <th>1</th>\n",
       "      <td>428652</td>\n",
       "      <td>0.170717</td>\n",
       "      <td>0.058261</td>\n",
       "      <td>7.758410</td>\n",
       "      <td>14.744200</td>\n",
       "      <td>0.091962</td>\n",
       "      <td>0.100307</td>\n",
       "      <td>0.024367</td>\n",
       "      <td>0.050045</td>\n",
       "      <td>0.001731</td>\n",
       "    </tr>\n",
       "    <tr>\n",
       "      <th>2</th>\n",
       "      <td>428656</td>\n",
       "      <td>0.819452</td>\n",
       "      <td>0.074766</td>\n",
       "      <td>10.724914</td>\n",
       "      <td>10.644387</td>\n",
       "      <td>0.352652</td>\n",
       "      <td>0.091390</td>\n",
       "      <td>0.054855</td>\n",
       "      <td>0.222235</td>\n",
       "      <td>0.015349</td>\n",
       "    </tr>\n",
       "    <tr>\n",
       "      <th>3</th>\n",
       "      <td>428659</td>\n",
       "      <td>0.255360</td>\n",
       "      <td>0.611347</td>\n",
       "      <td>12.166683</td>\n",
       "      <td>6.030370</td>\n",
       "      <td>0.305301</td>\n",
       "      <td>2.251400</td>\n",
       "      <td>0.153905</td>\n",
       "      <td>1.181664</td>\n",
       "      <td>0.043969</td>\n",
       "    </tr>\n",
       "    <tr>\n",
       "      <th>4</th>\n",
       "      <td>428664</td>\n",
       "      <td>0.785700</td>\n",
       "      <td>0.125477</td>\n",
       "      <td>5.901054</td>\n",
       "      <td>12.036060</td>\n",
       "      <td>0.278911</td>\n",
       "      <td>0.526556</td>\n",
       "      <td>0.065168</td>\n",
       "      <td>3.254255</td>\n",
       "      <td>0.026818</td>\n",
       "    </tr>\n",
       "  </tbody>\n",
       "</table>\n",
       "</div>"
      ],
      "text/plain": [
       "  song_id  breakbeat  drum_and_bass  dancehall_ragga  hip_hop_rnb  \\\n",
       "0  428650   4.107461       0.415206         8.426396     4.574856   \n",
       "1  428652   0.170717       0.058261         7.758410    14.744200   \n",
       "2  428656   0.819452       0.074766        10.724914    10.644387   \n",
       "3  428659   0.255360       0.611347        12.166683     6.030370   \n",
       "4  428664   0.785700       0.125477         5.901054    12.036060   \n",
       "\n",
       "   funky_house  downtempo  minimal_house  rock_indie    trance  \n",
       "0     1.346365   0.358995       0.222413    1.308946  2.239362  \n",
       "1     0.091962   0.100307       0.024367    0.050045  0.001731  \n",
       "2     0.352652   0.091390       0.054855    0.222235  0.015349  \n",
       "3     0.305301   2.251400       0.153905    1.181664  0.043969  \n",
       "4     0.278911   0.526556       0.065168    3.254255  0.026818  "
      ]
     },
     "execution_count": 28,
     "metadata": {},
     "output_type": "execute_result"
    }
   ],
   "source": [
    "df_sum_probs.head(5)"
   ]
  },
  {
   "cell_type": "markdown",
   "metadata": {},
   "source": [
    "Now I have a DataFrame containing the song_id and the respective sum of probabilities for all spectrograms belonging to that song."
   ]
  },
  {
   "cell_type": "code",
   "execution_count": 29,
   "metadata": {},
   "outputs": [],
   "source": [
    "df_sum_probs['total_sum']= df_sum_probs.iloc[:, -9:].sum(axis=1)"
   ]
  },
  {
   "cell_type": "code",
   "execution_count": 30,
   "metadata": {},
   "outputs": [
    {
     "data": {
      "text/html": [
       "<div>\n",
       "<table border=\"1\" class=\"dataframe\">\n",
       "  <thead>\n",
       "    <tr style=\"text-align: right;\">\n",
       "      <th></th>\n",
       "      <th>song_id</th>\n",
       "      <th>breakbeat</th>\n",
       "      <th>drum_and_bass</th>\n",
       "      <th>dancehall_ragga</th>\n",
       "      <th>hip_hop_rnb</th>\n",
       "      <th>funky_house</th>\n",
       "      <th>downtempo</th>\n",
       "      <th>minimal_house</th>\n",
       "      <th>rock_indie</th>\n",
       "      <th>trance</th>\n",
       "      <th>total_sum</th>\n",
       "    </tr>\n",
       "  </thead>\n",
       "  <tbody>\n",
       "    <tr>\n",
       "      <th>0</th>\n",
       "      <td>428650</td>\n",
       "      <td>4.107461</td>\n",
       "      <td>0.415206</td>\n",
       "      <td>8.426396</td>\n",
       "      <td>4.574856</td>\n",
       "      <td>1.346365</td>\n",
       "      <td>0.358995</td>\n",
       "      <td>0.222413</td>\n",
       "      <td>1.308946</td>\n",
       "      <td>2.239362</td>\n",
       "      <td>23.000000</td>\n",
       "    </tr>\n",
       "    <tr>\n",
       "      <th>1</th>\n",
       "      <td>428652</td>\n",
       "      <td>0.170717</td>\n",
       "      <td>0.058261</td>\n",
       "      <td>7.758410</td>\n",
       "      <td>14.744200</td>\n",
       "      <td>0.091962</td>\n",
       "      <td>0.100307</td>\n",
       "      <td>0.024367</td>\n",
       "      <td>0.050045</td>\n",
       "      <td>0.001731</td>\n",
       "      <td>23.000000</td>\n",
       "    </tr>\n",
       "    <tr>\n",
       "      <th>2</th>\n",
       "      <td>428656</td>\n",
       "      <td>0.819452</td>\n",
       "      <td>0.074766</td>\n",
       "      <td>10.724914</td>\n",
       "      <td>10.644387</td>\n",
       "      <td>0.352652</td>\n",
       "      <td>0.091390</td>\n",
       "      <td>0.054855</td>\n",
       "      <td>0.222235</td>\n",
       "      <td>0.015349</td>\n",
       "      <td>22.999999</td>\n",
       "    </tr>\n",
       "    <tr>\n",
       "      <th>3</th>\n",
       "      <td>428659</td>\n",
       "      <td>0.255360</td>\n",
       "      <td>0.611347</td>\n",
       "      <td>12.166683</td>\n",
       "      <td>6.030370</td>\n",
       "      <td>0.305301</td>\n",
       "      <td>2.251400</td>\n",
       "      <td>0.153905</td>\n",
       "      <td>1.181664</td>\n",
       "      <td>0.043969</td>\n",
       "      <td>22.999999</td>\n",
       "    </tr>\n",
       "    <tr>\n",
       "      <th>4</th>\n",
       "      <td>428664</td>\n",
       "      <td>0.785700</td>\n",
       "      <td>0.125477</td>\n",
       "      <td>5.901054</td>\n",
       "      <td>12.036060</td>\n",
       "      <td>0.278911</td>\n",
       "      <td>0.526556</td>\n",
       "      <td>0.065168</td>\n",
       "      <td>3.254255</td>\n",
       "      <td>0.026818</td>\n",
       "      <td>23.000000</td>\n",
       "    </tr>\n",
       "  </tbody>\n",
       "</table>\n",
       "</div>"
      ],
      "text/plain": [
       "  song_id  breakbeat  drum_and_bass  dancehall_ragga  hip_hop_rnb  \\\n",
       "0  428650   4.107461       0.415206         8.426396     4.574856   \n",
       "1  428652   0.170717       0.058261         7.758410    14.744200   \n",
       "2  428656   0.819452       0.074766        10.724914    10.644387   \n",
       "3  428659   0.255360       0.611347        12.166683     6.030370   \n",
       "4  428664   0.785700       0.125477         5.901054    12.036060   \n",
       "\n",
       "   funky_house  downtempo  minimal_house  rock_indie    trance  total_sum  \n",
       "0     1.346365   0.358995       0.222413    1.308946  2.239362  23.000000  \n",
       "1     0.091962   0.100307       0.024367    0.050045  0.001731  23.000000  \n",
       "2     0.352652   0.091390       0.054855    0.222235  0.015349  22.999999  \n",
       "3     0.305301   2.251400       0.153905    1.181664  0.043969  22.999999  \n",
       "4     0.278911   0.526556       0.065168    3.254255  0.026818  23.000000  "
      ]
     },
     "execution_count": 30,
     "metadata": {},
     "output_type": "execute_result"
    }
   ],
   "source": [
    "df_sum_probs.head(5)"
   ]
  },
  {
   "cell_type": "markdown",
   "metadata": {},
   "source": [
    "If I divide these numbers by the total sum, I'll get the probabilities over all images belonging to a track"
   ]
  },
  {
   "cell_type": "code",
   "execution_count": 31,
   "metadata": {
    "collapsed": true
   },
   "outputs": [],
   "source": [
    "df_sum_probs['breakbeat']= df_sum_probs['breakbeat'] / df_sum_probs['total_sum']\n",
    "df_sum_probs['drum_and_bass']= df_sum_probs['drum_and_bass'] / df_sum_probs['total_sum']\n",
    "df_sum_probs['dancehall_ragga']= df_sum_probs['dancehall_ragga'] / df_sum_probs['total_sum']\n",
    "df_sum_probs['hip_hop_rnb']= df_sum_probs['hip_hop_rnb'] / df_sum_probs['total_sum']\n",
    "df_sum_probs['funky_house']= df_sum_probs['funky_house'] / df_sum_probs['total_sum']\n",
    "df_sum_probs['downtempo']= df_sum_probs['downtempo'] / df_sum_probs['total_sum']\n",
    "df_sum_probs['minimal_house']= df_sum_probs['minimal_house'] / df_sum_probs['total_sum']\n",
    "df_sum_probs['rock_indie']= df_sum_probs['rock_indie'] / df_sum_probs['total_sum']\n",
    "df_sum_probs['trance']= df_sum_probs['trance'] / df_sum_probs['total_sum']\n",
    "df_sum_probs.drop('total_sum', axis=1, inplace=True)"
   ]
  },
  {
   "cell_type": "code",
   "execution_count": 32,
   "metadata": {},
   "outputs": [
    {
     "data": {
      "text/html": [
       "<div>\n",
       "<table border=\"1\" class=\"dataframe\">\n",
       "  <thead>\n",
       "    <tr style=\"text-align: right;\">\n",
       "      <th></th>\n",
       "      <th>song_id</th>\n",
       "      <th>breakbeat</th>\n",
       "      <th>drum_and_bass</th>\n",
       "      <th>dancehall_ragga</th>\n",
       "      <th>hip_hop_rnb</th>\n",
       "      <th>funky_house</th>\n",
       "      <th>downtempo</th>\n",
       "      <th>minimal_house</th>\n",
       "      <th>rock_indie</th>\n",
       "      <th>trance</th>\n",
       "    </tr>\n",
       "  </thead>\n",
       "  <tbody>\n",
       "    <tr>\n",
       "      <th>0</th>\n",
       "      <td>428650</td>\n",
       "      <td>0.178585</td>\n",
       "      <td>0.018052</td>\n",
       "      <td>0.366365</td>\n",
       "      <td>0.198907</td>\n",
       "      <td>0.058538</td>\n",
       "      <td>0.015608</td>\n",
       "      <td>0.009670</td>\n",
       "      <td>0.056911</td>\n",
       "      <td>0.097364</td>\n",
       "    </tr>\n",
       "    <tr>\n",
       "      <th>1</th>\n",
       "      <td>428652</td>\n",
       "      <td>0.007422</td>\n",
       "      <td>0.002533</td>\n",
       "      <td>0.337322</td>\n",
       "      <td>0.641052</td>\n",
       "      <td>0.003998</td>\n",
       "      <td>0.004361</td>\n",
       "      <td>0.001059</td>\n",
       "      <td>0.002176</td>\n",
       "      <td>0.000075</td>\n",
       "    </tr>\n",
       "    <tr>\n",
       "      <th>2</th>\n",
       "      <td>428656</td>\n",
       "      <td>0.035628</td>\n",
       "      <td>0.003251</td>\n",
       "      <td>0.466301</td>\n",
       "      <td>0.462799</td>\n",
       "      <td>0.015333</td>\n",
       "      <td>0.003973</td>\n",
       "      <td>0.002385</td>\n",
       "      <td>0.009662</td>\n",
       "      <td>0.000667</td>\n",
       "    </tr>\n",
       "    <tr>\n",
       "      <th>3</th>\n",
       "      <td>428659</td>\n",
       "      <td>0.011103</td>\n",
       "      <td>0.026580</td>\n",
       "      <td>0.528986</td>\n",
       "      <td>0.262190</td>\n",
       "      <td>0.013274</td>\n",
       "      <td>0.097887</td>\n",
       "      <td>0.006692</td>\n",
       "      <td>0.051377</td>\n",
       "      <td>0.001912</td>\n",
       "    </tr>\n",
       "    <tr>\n",
       "      <th>4</th>\n",
       "      <td>428664</td>\n",
       "      <td>0.034161</td>\n",
       "      <td>0.005456</td>\n",
       "      <td>0.256568</td>\n",
       "      <td>0.523307</td>\n",
       "      <td>0.012127</td>\n",
       "      <td>0.022894</td>\n",
       "      <td>0.002833</td>\n",
       "      <td>0.141489</td>\n",
       "      <td>0.001166</td>\n",
       "    </tr>\n",
       "  </tbody>\n",
       "</table>\n",
       "</div>"
      ],
      "text/plain": [
       "  song_id  breakbeat  drum_and_bass  dancehall_ragga  hip_hop_rnb  \\\n",
       "0  428650   0.178585       0.018052         0.366365     0.198907   \n",
       "1  428652   0.007422       0.002533         0.337322     0.641052   \n",
       "2  428656   0.035628       0.003251         0.466301     0.462799   \n",
       "3  428659   0.011103       0.026580         0.528986     0.262190   \n",
       "4  428664   0.034161       0.005456         0.256568     0.523307   \n",
       "\n",
       "   funky_house  downtempo  minimal_house  rock_indie    trance  \n",
       "0     0.058538   0.015608       0.009670    0.056911  0.097364  \n",
       "1     0.003998   0.004361       0.001059    0.002176  0.000075  \n",
       "2     0.015333   0.003973       0.002385    0.009662  0.000667  \n",
       "3     0.013274   0.097887       0.006692    0.051377  0.001912  \n",
       "4     0.012127   0.022894       0.002833    0.141489  0.001166  "
      ]
     },
     "execution_count": 32,
     "metadata": {},
     "output_type": "execute_result"
    }
   ],
   "source": [
    "df_sum_probs.head(5)"
   ]
  },
  {
   "cell_type": "code",
   "execution_count": 33,
   "metadata": {},
   "outputs": [],
   "source": [
    "actual_genres = tmp_df[['actual_genre','song_id']].drop_duplicates()"
   ]
  },
  {
   "cell_type": "markdown",
   "metadata": {},
   "source": [
    "Calculate the top prediction for each song:"
   ]
  },
  {
   "cell_type": "code",
   "execution_count": 34,
   "metadata": {},
   "outputs": [],
   "source": [
    "full_breakdown = actual_genres.merge(df_sum_probs)\n",
    "full_breakdown['first_prediction'] = full_breakdown[['breakbeat','drum_and_bass','dancehall_ragga',\n",
    "                                                     'hip_hop_rnb','funky_house','downtempo',\n",
    "                                                     'minimal_house','rock_indie','trance']].idxmax(axis=1)"
   ]
  },
  {
   "cell_type": "code",
   "execution_count": 35,
   "metadata": {},
   "outputs": [
    {
     "data": {
      "text/html": [
       "<div>\n",
       "<table border=\"1\" class=\"dataframe\">\n",
       "  <thead>\n",
       "    <tr style=\"text-align: right;\">\n",
       "      <th></th>\n",
       "      <th>actual_genre</th>\n",
       "      <th>song_id</th>\n",
       "      <th>breakbeat</th>\n",
       "      <th>drum_and_bass</th>\n",
       "      <th>dancehall_ragga</th>\n",
       "      <th>hip_hop_rnb</th>\n",
       "      <th>funky_house</th>\n",
       "      <th>downtempo</th>\n",
       "      <th>minimal_house</th>\n",
       "      <th>rock_indie</th>\n",
       "      <th>trance</th>\n",
       "      <th>first_prediction</th>\n",
       "    </tr>\n",
       "  </thead>\n",
       "  <tbody>\n",
       "    <tr>\n",
       "      <th>0</th>\n",
       "      <td>breakbeat</td>\n",
       "      <td>73191</td>\n",
       "      <td>0.271404</td>\n",
       "      <td>0.093506</td>\n",
       "      <td>0.322739</td>\n",
       "      <td>0.175376</td>\n",
       "      <td>0.046264</td>\n",
       "      <td>0.040683</td>\n",
       "      <td>0.007594</td>\n",
       "      <td>0.031043</td>\n",
       "      <td>0.011391</td>\n",
       "      <td>dancehall_ragga</td>\n",
       "    </tr>\n",
       "    <tr>\n",
       "      <th>1</th>\n",
       "      <td>breakbeat</td>\n",
       "      <td>74093</td>\n",
       "      <td>0.673296</td>\n",
       "      <td>0.047146</td>\n",
       "      <td>0.017546</td>\n",
       "      <td>0.037789</td>\n",
       "      <td>0.061377</td>\n",
       "      <td>0.011860</td>\n",
       "      <td>0.014444</td>\n",
       "      <td>0.022131</td>\n",
       "      <td>0.114411</td>\n",
       "      <td>breakbeat</td>\n",
       "    </tr>\n",
       "    <tr>\n",
       "      <th>2</th>\n",
       "      <td>breakbeat</td>\n",
       "      <td>74109</td>\n",
       "      <td>0.020109</td>\n",
       "      <td>0.011923</td>\n",
       "      <td>0.122112</td>\n",
       "      <td>0.033048</td>\n",
       "      <td>0.267638</td>\n",
       "      <td>0.329403</td>\n",
       "      <td>0.108211</td>\n",
       "      <td>0.081416</td>\n",
       "      <td>0.026140</td>\n",
       "      <td>downtempo</td>\n",
       "    </tr>\n",
       "    <tr>\n",
       "      <th>3</th>\n",
       "      <td>breakbeat</td>\n",
       "      <td>74299</td>\n",
       "      <td>0.301416</td>\n",
       "      <td>0.023911</td>\n",
       "      <td>0.155262</td>\n",
       "      <td>0.180262</td>\n",
       "      <td>0.117227</td>\n",
       "      <td>0.106337</td>\n",
       "      <td>0.019794</td>\n",
       "      <td>0.039665</td>\n",
       "      <td>0.056126</td>\n",
       "      <td>breakbeat</td>\n",
       "    </tr>\n",
       "    <tr>\n",
       "      <th>4</th>\n",
       "      <td>breakbeat</td>\n",
       "      <td>74307</td>\n",
       "      <td>0.242033</td>\n",
       "      <td>0.017999</td>\n",
       "      <td>0.112116</td>\n",
       "      <td>0.128351</td>\n",
       "      <td>0.180337</td>\n",
       "      <td>0.170797</td>\n",
       "      <td>0.066654</td>\n",
       "      <td>0.034132</td>\n",
       "      <td>0.047582</td>\n",
       "      <td>breakbeat</td>\n",
       "    </tr>\n",
       "  </tbody>\n",
       "</table>\n",
       "</div>"
      ],
      "text/plain": [
       "  actual_genre song_id  breakbeat  drum_and_bass  dancehall_ragga  \\\n",
       "0    breakbeat   73191   0.271404       0.093506         0.322739   \n",
       "1    breakbeat   74093   0.673296       0.047146         0.017546   \n",
       "2    breakbeat   74109   0.020109       0.011923         0.122112   \n",
       "3    breakbeat   74299   0.301416       0.023911         0.155262   \n",
       "4    breakbeat   74307   0.242033       0.017999         0.112116   \n",
       "\n",
       "   hip_hop_rnb  funky_house  downtempo  minimal_house  rock_indie    trance  \\\n",
       "0     0.175376     0.046264   0.040683       0.007594    0.031043  0.011391   \n",
       "1     0.037789     0.061377   0.011860       0.014444    0.022131  0.114411   \n",
       "2     0.033048     0.267638   0.329403       0.108211    0.081416  0.026140   \n",
       "3     0.180262     0.117227   0.106337       0.019794    0.039665  0.056126   \n",
       "4     0.128351     0.180337   0.170797       0.066654    0.034132  0.047582   \n",
       "\n",
       "  first_prediction  \n",
       "0  dancehall_ragga  \n",
       "1        breakbeat  \n",
       "2        downtempo  \n",
       "3        breakbeat  \n",
       "4        breakbeat  "
      ]
     },
     "execution_count": 35,
     "metadata": {},
     "output_type": "execute_result"
    }
   ],
   "source": [
    "full_breakdown.head()"
   ]
  },
  {
   "cell_type": "markdown",
   "metadata": {},
   "source": [
    "Determine whether the prediction was correct:"
   ]
  },
  {
   "cell_type": "code",
   "execution_count": 36,
   "metadata": {
    "collapsed": true
   },
   "outputs": [],
   "source": [
    "full_breakdown['correct_prediction'] = full_breakdown['actual_genre'] == full_breakdown['first_prediction']"
   ]
  },
  {
   "cell_type": "code",
   "execution_count": 37,
   "metadata": {},
   "outputs": [
    {
     "data": {
      "text/html": [
       "<div>\n",
       "<table border=\"1\" class=\"dataframe\">\n",
       "  <thead>\n",
       "    <tr style=\"text-align: right;\">\n",
       "      <th></th>\n",
       "      <th>actual_genre</th>\n",
       "      <th>song_id</th>\n",
       "      <th>breakbeat</th>\n",
       "      <th>drum_and_bass</th>\n",
       "      <th>dancehall_ragga</th>\n",
       "      <th>hip_hop_rnb</th>\n",
       "      <th>funky_house</th>\n",
       "      <th>downtempo</th>\n",
       "      <th>minimal_house</th>\n",
       "      <th>rock_indie</th>\n",
       "      <th>trance</th>\n",
       "      <th>first_prediction</th>\n",
       "      <th>correct_prediction</th>\n",
       "    </tr>\n",
       "  </thead>\n",
       "  <tbody>\n",
       "    <tr>\n",
       "      <th>0</th>\n",
       "      <td>breakbeat</td>\n",
       "      <td>73191</td>\n",
       "      <td>0.271404</td>\n",
       "      <td>0.093506</td>\n",
       "      <td>0.322739</td>\n",
       "      <td>0.175376</td>\n",
       "      <td>0.046264</td>\n",
       "      <td>0.040683</td>\n",
       "      <td>0.007594</td>\n",
       "      <td>0.031043</td>\n",
       "      <td>0.011391</td>\n",
       "      <td>dancehall_ragga</td>\n",
       "      <td>False</td>\n",
       "    </tr>\n",
       "    <tr>\n",
       "      <th>1</th>\n",
       "      <td>breakbeat</td>\n",
       "      <td>74093</td>\n",
       "      <td>0.673296</td>\n",
       "      <td>0.047146</td>\n",
       "      <td>0.017546</td>\n",
       "      <td>0.037789</td>\n",
       "      <td>0.061377</td>\n",
       "      <td>0.011860</td>\n",
       "      <td>0.014444</td>\n",
       "      <td>0.022131</td>\n",
       "      <td>0.114411</td>\n",
       "      <td>breakbeat</td>\n",
       "      <td>True</td>\n",
       "    </tr>\n",
       "    <tr>\n",
       "      <th>2</th>\n",
       "      <td>breakbeat</td>\n",
       "      <td>74109</td>\n",
       "      <td>0.020109</td>\n",
       "      <td>0.011923</td>\n",
       "      <td>0.122112</td>\n",
       "      <td>0.033048</td>\n",
       "      <td>0.267638</td>\n",
       "      <td>0.329403</td>\n",
       "      <td>0.108211</td>\n",
       "      <td>0.081416</td>\n",
       "      <td>0.026140</td>\n",
       "      <td>downtempo</td>\n",
       "      <td>False</td>\n",
       "    </tr>\n",
       "    <tr>\n",
       "      <th>3</th>\n",
       "      <td>breakbeat</td>\n",
       "      <td>74299</td>\n",
       "      <td>0.301416</td>\n",
       "      <td>0.023911</td>\n",
       "      <td>0.155262</td>\n",
       "      <td>0.180262</td>\n",
       "      <td>0.117227</td>\n",
       "      <td>0.106337</td>\n",
       "      <td>0.019794</td>\n",
       "      <td>0.039665</td>\n",
       "      <td>0.056126</td>\n",
       "      <td>breakbeat</td>\n",
       "      <td>True</td>\n",
       "    </tr>\n",
       "    <tr>\n",
       "      <th>4</th>\n",
       "      <td>breakbeat</td>\n",
       "      <td>74307</td>\n",
       "      <td>0.242033</td>\n",
       "      <td>0.017999</td>\n",
       "      <td>0.112116</td>\n",
       "      <td>0.128351</td>\n",
       "      <td>0.180337</td>\n",
       "      <td>0.170797</td>\n",
       "      <td>0.066654</td>\n",
       "      <td>0.034132</td>\n",
       "      <td>0.047582</td>\n",
       "      <td>breakbeat</td>\n",
       "      <td>True</td>\n",
       "    </tr>\n",
       "  </tbody>\n",
       "</table>\n",
       "</div>"
      ],
      "text/plain": [
       "  actual_genre song_id  breakbeat  drum_and_bass  dancehall_ragga  \\\n",
       "0    breakbeat   73191   0.271404       0.093506         0.322739   \n",
       "1    breakbeat   74093   0.673296       0.047146         0.017546   \n",
       "2    breakbeat   74109   0.020109       0.011923         0.122112   \n",
       "3    breakbeat   74299   0.301416       0.023911         0.155262   \n",
       "4    breakbeat   74307   0.242033       0.017999         0.112116   \n",
       "\n",
       "   hip_hop_rnb  funky_house  downtempo  minimal_house  rock_indie    trance  \\\n",
       "0     0.175376     0.046264   0.040683       0.007594    0.031043  0.011391   \n",
       "1     0.037789     0.061377   0.011860       0.014444    0.022131  0.114411   \n",
       "2     0.033048     0.267638   0.329403       0.108211    0.081416  0.026140   \n",
       "3     0.180262     0.117227   0.106337       0.019794    0.039665  0.056126   \n",
       "4     0.128351     0.180337   0.170797       0.066654    0.034132  0.047582   \n",
       "\n",
       "  first_prediction correct_prediction  \n",
       "0  dancehall_ragga              False  \n",
       "1        breakbeat               True  \n",
       "2        downtempo              False  \n",
       "3        breakbeat               True  \n",
       "4        breakbeat               True  "
      ]
     },
     "execution_count": 37,
     "metadata": {},
     "output_type": "execute_result"
    }
   ],
   "source": [
    "full_breakdown.head()"
   ]
  },
  {
   "cell_type": "code",
   "execution_count": 38,
   "metadata": {},
   "outputs": [
    {
     "data": {
      "text/plain": [
       "866"
      ]
     },
     "execution_count": 38,
     "metadata": {},
     "output_type": "execute_result"
    }
   ],
   "source": [
    "len(full_breakdown)"
   ]
  },
  {
   "cell_type": "code",
   "execution_count": 39,
   "metadata": {},
   "outputs": [
    {
     "data": {
      "text/plain": [
       "648"
      ]
     },
     "execution_count": 39,
     "metadata": {},
     "output_type": "execute_result"
    }
   ],
   "source": [
    "len(full_breakdown[full_breakdown['correct_prediction'] == True])"
   ]
  },
  {
   "cell_type": "markdown",
   "metadata": {},
   "source": [
    "Examine the breakdown by genre:"
   ]
  },
  {
   "cell_type": "code",
   "execution_count": 42,
   "metadata": {},
   "outputs": [],
   "source": [
    "full_breakdown = full_breakdown.groupby(['actual_genre','correct_prediction'])['song_id'].count().reset_index()"
   ]
  },
  {
   "cell_type": "code",
   "execution_count": 45,
   "metadata": {},
   "outputs": [
    {
     "data": {
      "text/html": [
       "<div>\n",
       "<table border=\"1\" class=\"dataframe\">\n",
       "  <thead>\n",
       "    <tr style=\"text-align: right;\">\n",
       "      <th></th>\n",
       "      <th>actual_genre</th>\n",
       "      <th>correct_prediction</th>\n",
       "      <th>song_id</th>\n",
       "    </tr>\n",
       "  </thead>\n",
       "  <tbody>\n",
       "    <tr>\n",
       "      <th>0</th>\n",
       "      <td>breakbeat</td>\n",
       "      <td>False</td>\n",
       "      <td>22</td>\n",
       "    </tr>\n",
       "    <tr>\n",
       "      <th>1</th>\n",
       "      <td>breakbeat</td>\n",
       "      <td>True</td>\n",
       "      <td>76</td>\n",
       "    </tr>\n",
       "    <tr>\n",
       "      <th>2</th>\n",
       "      <td>dancehall_ragga</td>\n",
       "      <td>False</td>\n",
       "      <td>21</td>\n",
       "    </tr>\n",
       "    <tr>\n",
       "      <th>3</th>\n",
       "      <td>dancehall_ragga</td>\n",
       "      <td>True</td>\n",
       "      <td>79</td>\n",
       "    </tr>\n",
       "    <tr>\n",
       "      <th>4</th>\n",
       "      <td>downtempo</td>\n",
       "      <td>False</td>\n",
       "      <td>28</td>\n",
       "    </tr>\n",
       "    <tr>\n",
       "      <th>5</th>\n",
       "      <td>downtempo</td>\n",
       "      <td>True</td>\n",
       "      <td>69</td>\n",
       "    </tr>\n",
       "    <tr>\n",
       "      <th>6</th>\n",
       "      <td>drum_and_bass</td>\n",
       "      <td>False</td>\n",
       "      <td>10</td>\n",
       "    </tr>\n",
       "    <tr>\n",
       "      <th>7</th>\n",
       "      <td>drum_and_bass</td>\n",
       "      <td>True</td>\n",
       "      <td>88</td>\n",
       "    </tr>\n",
       "    <tr>\n",
       "      <th>8</th>\n",
       "      <td>funky_house</td>\n",
       "      <td>False</td>\n",
       "      <td>28</td>\n",
       "    </tr>\n",
       "    <tr>\n",
       "      <th>9</th>\n",
       "      <td>funky_house</td>\n",
       "      <td>True</td>\n",
       "      <td>69</td>\n",
       "    </tr>\n",
       "    <tr>\n",
       "      <th>10</th>\n",
       "      <td>hip_hop_rnb</td>\n",
       "      <td>False</td>\n",
       "      <td>39</td>\n",
       "    </tr>\n",
       "    <tr>\n",
       "      <th>11</th>\n",
       "      <td>hip_hop_rnb</td>\n",
       "      <td>True</td>\n",
       "      <td>61</td>\n",
       "    </tr>\n",
       "    <tr>\n",
       "      <th>12</th>\n",
       "      <td>minimal_house</td>\n",
       "      <td>False</td>\n",
       "      <td>37</td>\n",
       "    </tr>\n",
       "    <tr>\n",
       "      <th>13</th>\n",
       "      <td>minimal_house</td>\n",
       "      <td>True</td>\n",
       "      <td>62</td>\n",
       "    </tr>\n",
       "    <tr>\n",
       "      <th>14</th>\n",
       "      <td>rock_indie</td>\n",
       "      <td>False</td>\n",
       "      <td>24</td>\n",
       "    </tr>\n",
       "    <tr>\n",
       "      <th>15</th>\n",
       "      <td>rock_indie</td>\n",
       "      <td>True</td>\n",
       "      <td>57</td>\n",
       "    </tr>\n",
       "    <tr>\n",
       "      <th>16</th>\n",
       "      <td>trance</td>\n",
       "      <td>False</td>\n",
       "      <td>9</td>\n",
       "    </tr>\n",
       "    <tr>\n",
       "      <th>17</th>\n",
       "      <td>trance</td>\n",
       "      <td>True</td>\n",
       "      <td>87</td>\n",
       "    </tr>\n",
       "  </tbody>\n",
       "</table>\n",
       "</div>"
      ],
      "text/plain": [
       "       actual_genre correct_prediction  song_id\n",
       "0         breakbeat              False       22\n",
       "1         breakbeat               True       76\n",
       "2   dancehall_ragga              False       21\n",
       "3   dancehall_ragga               True       79\n",
       "4         downtempo              False       28\n",
       "5         downtempo               True       69\n",
       "6     drum_and_bass              False       10\n",
       "7     drum_and_bass               True       88\n",
       "8       funky_house              False       28\n",
       "9       funky_house               True       69\n",
       "10      hip_hop_rnb              False       39\n",
       "11      hip_hop_rnb               True       61\n",
       "12    minimal_house              False       37\n",
       "13    minimal_house               True       62\n",
       "14       rock_indie              False       24\n",
       "15       rock_indie               True       57\n",
       "16           trance              False        9\n",
       "17           trance               True       87"
      ]
     },
     "execution_count": 45,
     "metadata": {},
     "output_type": "execute_result"
    }
   ],
   "source": [
    "full_breakdown"
   ]
  },
  {
   "cell_type": "markdown",
   "metadata": {},
   "source": [
    "### Classification accuracy by genre"
   ]
  },
  {
   "cell_type": "code",
   "execution_count": 53,
   "metadata": {},
   "outputs": [
    {
     "data": {
      "text/html": [
       "<div>\n",
       "<table border=\"1\" class=\"dataframe\">\n",
       "  <thead>\n",
       "    <tr style=\"text-align: right;\">\n",
       "      <th></th>\n",
       "      <th>actual_genre</th>\n",
       "      <th>song_id</th>\n",
       "    </tr>\n",
       "  </thead>\n",
       "  <tbody>\n",
       "    <tr>\n",
       "      <th>0</th>\n",
       "      <td>breakbeat</td>\n",
       "      <td>0.775510</td>\n",
       "    </tr>\n",
       "    <tr>\n",
       "      <th>1</th>\n",
       "      <td>dancehall_ragga</td>\n",
       "      <td>0.790000</td>\n",
       "    </tr>\n",
       "    <tr>\n",
       "      <th>2</th>\n",
       "      <td>downtempo</td>\n",
       "      <td>0.711340</td>\n",
       "    </tr>\n",
       "    <tr>\n",
       "      <th>3</th>\n",
       "      <td>drum_and_bass</td>\n",
       "      <td>0.897959</td>\n",
       "    </tr>\n",
       "    <tr>\n",
       "      <th>4</th>\n",
       "      <td>funky_house</td>\n",
       "      <td>0.711340</td>\n",
       "    </tr>\n",
       "    <tr>\n",
       "      <th>5</th>\n",
       "      <td>hip_hop_rnb</td>\n",
       "      <td>0.610000</td>\n",
       "    </tr>\n",
       "    <tr>\n",
       "      <th>6</th>\n",
       "      <td>minimal_house</td>\n",
       "      <td>0.626263</td>\n",
       "    </tr>\n",
       "    <tr>\n",
       "      <th>7</th>\n",
       "      <td>rock_indie</td>\n",
       "      <td>0.703704</td>\n",
       "    </tr>\n",
       "    <tr>\n",
       "      <th>8</th>\n",
       "      <td>trance</td>\n",
       "      <td>0.906250</td>\n",
       "    </tr>\n",
       "  </tbody>\n",
       "</table>\n",
       "</div>"
      ],
      "text/plain": [
       "      actual_genre   song_id\n",
       "0        breakbeat  0.775510\n",
       "1  dancehall_ragga  0.790000\n",
       "2        downtempo  0.711340\n",
       "3    drum_and_bass  0.897959\n",
       "4      funky_house  0.711340\n",
       "5      hip_hop_rnb  0.610000\n",
       "6    minimal_house  0.626263\n",
       "7       rock_indie  0.703704\n",
       "8           trance  0.906250"
      ]
     },
     "execution_count": 53,
     "metadata": {},
     "output_type": "execute_result"
    }
   ],
   "source": [
    "(full_breakdown.groupby('actual_genre')['song_id'].max() / \\\n",
    "    full_breakdown.groupby('actual_genre')['song_id'].sum()).reset_index()"
   ]
  },
  {
   "cell_type": "code",
   "execution_count": null,
   "metadata": {
    "collapsed": true
   },
   "outputs": [],
   "source": []
  }
 ],
 "metadata": {
  "kernelspec": {
   "display_name": "Python 3",
   "language": "python",
   "name": "python3"
  },
  "language_info": {
   "codemirror_mode": {
    "name": "ipython",
    "version": 3
   },
   "file_extension": ".py",
   "mimetype": "text/x-python",
   "name": "python",
   "nbconvert_exporter": "python",
   "pygments_lexer": "ipython3",
   "version": "3.5.2"
  }
 },
 "nbformat": 4,
 "nbformat_minor": 1
}
