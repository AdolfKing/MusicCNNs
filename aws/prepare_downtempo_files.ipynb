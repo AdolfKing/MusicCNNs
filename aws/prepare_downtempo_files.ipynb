{
 "cells": [
  {
   "cell_type": "markdown",
   "metadata": {},
   "source": [
    "### Imports"
   ]
  },
  {
   "cell_type": "code",
   "execution_count": 1,
   "metadata": {},
   "outputs": [],
   "source": [
    "import os\n",
    "import glob\n",
    "import pandas as pd\n",
    "import shutil"
   ]
  },
  {
   "cell_type": "markdown",
   "metadata": {},
   "source": [
    "#### Get list of files in genre folder"
   ]
  },
  {
   "cell_type": "code",
   "execution_count": 2,
   "metadata": {},
   "outputs": [],
   "source": [
    "genre_name = 'downtempo'"
   ]
  },
  {
   "cell_type": "code",
   "execution_count": 3,
   "metadata": {},
   "outputs": [],
   "source": [
    "file_list = os.listdir('data/{}'.format(genre_name))"
   ]
  },
  {
   "cell_type": "markdown",
   "metadata": {},
   "source": [
    "Split file name into its relevant information"
   ]
  },
  {
   "cell_type": "code",
   "execution_count": 4,
   "metadata": {},
   "outputs": [],
   "source": [
    "split_file_name = file_list[0].split('__')\n",
    "genre = split_file_name[0]\n",
    "track_id = split_file_name[1]\n",
    "spectro_id = split_file_name[2].split('.')[0]"
   ]
  },
  {
   "cell_type": "code",
   "execution_count": 5,
   "metadata": {},
   "outputs": [],
   "source": [
    "list_of_files = []\n",
    "for f in file_list:\n",
    "    split_f = f.split('__')\n",
    "    genre = split_f[0]\n",
    "    track_id = split_f[1]\n",
    "    spectro_id = split_f[2].split('.')[0]\n",
    "    file_name = f\n",
    "    \n",
    "    track_dict = {\n",
    "        'file_name':file_name,\n",
    "        'track_id':track_id,\n",
    "        'genre':genre,\n",
    "        'spectro_id':spectro_id}\n",
    "    \n",
    "    list_of_files.append(track_dict)"
   ]
  },
  {
   "cell_type": "code",
   "execution_count": 6,
   "metadata": {},
   "outputs": [
    {
     "data": {
      "text/plain": [
       "{'file_name': 'downtempo__365089__022.png',\n",
       " 'genre': 'downtempo',\n",
       " 'spectro_id': '022',\n",
       " 'track_id': '365089'}"
      ]
     },
     "execution_count": 6,
     "metadata": {},
     "output_type": "execute_result"
    }
   ],
   "source": [
    "list_of_files[0]"
   ]
  },
  {
   "cell_type": "markdown",
   "metadata": {},
   "source": [
    "#### Move data to DataFrame"
   ]
  },
  {
   "cell_type": "code",
   "execution_count": 7,
   "metadata": {},
   "outputs": [],
   "source": [
    "df = pd.DataFrame(list_of_files)"
   ]
  },
  {
   "cell_type": "markdown",
   "metadata": {},
   "source": [
    "#### Calculate the number of spectrograms for each unique track"
   ]
  },
  {
   "cell_type": "code",
   "execution_count": 8,
   "metadata": {},
   "outputs": [
    {
     "data": {
      "text/html": [
       "<div>\n",
       "<style scoped>\n",
       "    .dataframe tbody tr th:only-of-type {\n",
       "        vertical-align: middle;\n",
       "    }\n",
       "\n",
       "    .dataframe tbody tr th {\n",
       "        vertical-align: top;\n",
       "    }\n",
       "\n",
       "    .dataframe thead th {\n",
       "        text-align: right;\n",
       "    }\n",
       "</style>\n",
       "<table border=\"1\" class=\"dataframe\">\n",
       "  <thead>\n",
       "    <tr style=\"text-align: right;\">\n",
       "      <th></th>\n",
       "      <th>file_name</th>\n",
       "      <th>genre</th>\n",
       "      <th>spectro_id</th>\n",
       "      <th>track_id</th>\n",
       "    </tr>\n",
       "  </thead>\n",
       "  <tbody>\n",
       "    <tr>\n",
       "      <th>7647</th>\n",
       "      <td>downtempo__162990__003.png</td>\n",
       "      <td>downtempo</td>\n",
       "      <td>003</td>\n",
       "      <td>162990</td>\n",
       "    </tr>\n",
       "    <tr>\n",
       "      <th>6223</th>\n",
       "      <td>downtempo__407659__005.png</td>\n",
       "      <td>downtempo</td>\n",
       "      <td>005</td>\n",
       "      <td>407659</td>\n",
       "    </tr>\n",
       "    <tr>\n",
       "      <th>14623</th>\n",
       "      <td>downtempo__238043__012.png</td>\n",
       "      <td>downtempo</td>\n",
       "      <td>012</td>\n",
       "      <td>238043</td>\n",
       "    </tr>\n",
       "    <tr>\n",
       "      <th>11475</th>\n",
       "      <td>downtempo__203423__008.png</td>\n",
       "      <td>downtempo</td>\n",
       "      <td>008</td>\n",
       "      <td>203423</td>\n",
       "    </tr>\n",
       "    <tr>\n",
       "      <th>14321</th>\n",
       "      <td>downtempo__218152__003.png</td>\n",
       "      <td>downtempo</td>\n",
       "      <td>003</td>\n",
       "      <td>218152</td>\n",
       "    </tr>\n",
       "  </tbody>\n",
       "</table>\n",
       "</div>"
      ],
      "text/plain": [
       "                        file_name      genre spectro_id track_id\n",
       "7647   downtempo__162990__003.png  downtempo        003   162990\n",
       "6223   downtempo__407659__005.png  downtempo        005   407659\n",
       "14623  downtempo__238043__012.png  downtempo        012   238043\n",
       "11475  downtempo__203423__008.png  downtempo        008   203423\n",
       "14321  downtempo__218152__003.png  downtempo        003   218152"
      ]
     },
     "execution_count": 8,
     "metadata": {},
     "output_type": "execute_result"
    }
   ],
   "source": [
    "df.sample(5)"
   ]
  },
  {
   "cell_type": "code",
   "execution_count": 9,
   "metadata": {},
   "outputs": [],
   "source": [
    "num_files = df.groupby('track_id')['file_name'].count().reset_index()\n",
    "num_files.columns = ['track_id','num_spectro']"
   ]
  },
  {
   "cell_type": "code",
   "execution_count": 10,
   "metadata": {},
   "outputs": [
    {
     "data": {
      "text/html": [
       "<div>\n",
       "<style scoped>\n",
       "    .dataframe tbody tr th:only-of-type {\n",
       "        vertical-align: middle;\n",
       "    }\n",
       "\n",
       "    .dataframe tbody tr th {\n",
       "        vertical-align: top;\n",
       "    }\n",
       "\n",
       "    .dataframe thead th {\n",
       "        text-align: right;\n",
       "    }\n",
       "</style>\n",
       "<table border=\"1\" class=\"dataframe\">\n",
       "  <thead>\n",
       "    <tr style=\"text-align: right;\">\n",
       "      <th></th>\n",
       "      <th>track_id</th>\n",
       "      <th>num_spectro</th>\n",
       "    </tr>\n",
       "  </thead>\n",
       "  <tbody>\n",
       "    <tr>\n",
       "      <th>0</th>\n",
       "      <td>100306</td>\n",
       "      <td>11</td>\n",
       "    </tr>\n",
       "    <tr>\n",
       "      <th>1</th>\n",
       "      <td>101686</td>\n",
       "      <td>23</td>\n",
       "    </tr>\n",
       "    <tr>\n",
       "      <th>2</th>\n",
       "      <td>101904</td>\n",
       "      <td>23</td>\n",
       "    </tr>\n",
       "    <tr>\n",
       "      <th>3</th>\n",
       "      <td>103416</td>\n",
       "      <td>23</td>\n",
       "    </tr>\n",
       "    <tr>\n",
       "      <th>4</th>\n",
       "      <td>105102</td>\n",
       "      <td>23</td>\n",
       "    </tr>\n",
       "  </tbody>\n",
       "</table>\n",
       "</div>"
      ],
      "text/plain": [
       "  track_id  num_spectro\n",
       "0   100306           11\n",
       "1   101686           23\n",
       "2   101904           23\n",
       "3   103416           23\n",
       "4   105102           23"
      ]
     },
     "execution_count": 10,
     "metadata": {},
     "output_type": "execute_result"
    }
   ],
   "source": [
    "num_files.head()"
   ]
  },
  {
   "cell_type": "markdown",
   "metadata": {},
   "source": [
    "#### Work out the number of files needed in the train, validation and holdout folders"
   ]
  },
  {
   "cell_type": "code",
   "execution_count": 11,
   "metadata": {},
   "outputs": [],
   "source": [
    "total_num_files = num_files['num_spectro'].sum()"
   ]
  },
  {
   "cell_type": "code",
   "execution_count": 12,
   "metadata": {},
   "outputs": [],
   "source": [
    "train_pct = 0.65\n",
    "validation_pct = 0.25\n",
    "holdout_pct = 0.1"
   ]
  },
  {
   "cell_type": "code",
   "execution_count": 13,
   "metadata": {},
   "outputs": [],
   "source": [
    "train_image_threshold = int(train_pct * total_num_files)\n",
    "validation_image_threshold = int(validation_pct * total_num_files)"
   ]
  },
  {
   "cell_type": "code",
   "execution_count": 14,
   "metadata": {},
   "outputs": [],
   "source": [
    "tracks_dict = dict(zip(num_files['track_id'], num_files['num_spectro']))"
   ]
  },
  {
   "cell_type": "markdown",
   "metadata": {},
   "source": [
    "#### Loop through tracks_dict and make a note of track IDs that will go into the train dataset"
   ]
  },
  {
   "cell_type": "code",
   "execution_count": 15,
   "metadata": {},
   "outputs": [],
   "source": [
    "count = 0\n",
    "train_ids = []\n",
    "for key, value in tracks_dict.items():\n",
    "    count += value\n",
    "    if count <= train_image_threshold:\n",
    "        train_ids.append((key, value))"
   ]
  },
  {
   "cell_type": "markdown",
   "metadata": {},
   "source": [
    "Then remove these track id's from the dict..."
   ]
  },
  {
   "cell_type": "code",
   "execution_count": 16,
   "metadata": {},
   "outputs": [],
   "source": [
    "for item in train_ids:\n",
    "    tracks_dict.pop(item[0], None)"
   ]
  },
  {
   "cell_type": "markdown",
   "metadata": {},
   "source": [
    "#### Do the same for the validation set"
   ]
  },
  {
   "cell_type": "code",
   "execution_count": 17,
   "metadata": {},
   "outputs": [],
   "source": [
    "count = 0\n",
    "validation_ids = []\n",
    "for key, value in tracks_dict.items():\n",
    "    count += value\n",
    "    if count <= validation_image_threshold:\n",
    "        validation_ids.append((key, value))"
   ]
  },
  {
   "cell_type": "code",
   "execution_count": 18,
   "metadata": {},
   "outputs": [],
   "source": [
    "for item in validation_ids:\n",
    "    tracks_dict.pop(item[0], None)"
   ]
  },
  {
   "cell_type": "markdown",
   "metadata": {},
   "source": [
    "#### Then move the rest into the holdout set"
   ]
  },
  {
   "cell_type": "code",
   "execution_count": 19,
   "metadata": {},
   "outputs": [],
   "source": [
    "holdout_ids = []\n",
    "for key, value in tracks_dict.items():\n",
    "    holdout_ids.append((key, value))"
   ]
  },
  {
   "cell_type": "markdown",
   "metadata": {},
   "source": [
    "Number of tracks in each set..."
   ]
  },
  {
   "cell_type": "code",
   "execution_count": 20,
   "metadata": {},
   "outputs": [
    {
     "name": "stdout",
     "output_type": "stream",
     "text": [
      "649\n",
      "249\n",
      "100\n"
     ]
    }
   ],
   "source": [
    "print(len(train_ids))\n",
    "print(len(validation_ids))\n",
    "print(len(holdout_ids))"
   ]
  },
  {
   "cell_type": "markdown",
   "metadata": {},
   "source": [
    "#### Create directories for train/breakbeat, validation/breakbeat and holdout/breakbeat if they don't exist"
   ]
  },
  {
   "cell_type": "code",
   "execution_count": 21,
   "metadata": {},
   "outputs": [],
   "source": [
    "train_dir = 'data/train/{}'.format(genre_name)\n",
    "validation_dir = 'data/validation/{}'.format(genre_name)\n",
    "holdout_dir = 'data/holdout/{}'.format(genre_name)\n",
    "\n",
    "\n",
    "if not os.path.exists(train_dir):\n",
    "    os.makedirs(train_dir)\n",
    "\n",
    "if not os.path.exists(validation_dir):\n",
    "    os.makedirs(validation_dir)\n",
    "\n",
    "if not os.path.exists(holdout_dir):\n",
    "    os.makedirs(holdout_dir)"
   ]
  },
  {
   "cell_type": "markdown",
   "metadata": {},
   "source": [
    "#### Move train files from data/breakbeat to data/train/breakbeat"
   ]
  },
  {
   "cell_type": "code",
   "execution_count": 22,
   "metadata": {},
   "outputs": [],
   "source": [
    "for t in train_ids:\n",
    "    files_to_move = list(df[df['track_id'] == t[0]]['file_name'])\n",
    "    for f in files_to_move:\n",
    "        src = 'data/{}/{}'.format(genre_name, f)\n",
    "        dst = 'data/train/{}/{}'.format(genre_name, f)\n",
    "        shutil.move(src, dst)"
   ]
  },
  {
   "cell_type": "markdown",
   "metadata": {},
   "source": [
    "#### Move validation files from data/breakbeat to data/validation/breakbeat"
   ]
  },
  {
   "cell_type": "code",
   "execution_count": 23,
   "metadata": {},
   "outputs": [],
   "source": [
    "for t in validation_ids:\n",
    "    files_to_move = list(df[df['track_id'] == t[0]]['file_name'])\n",
    "    for f in files_to_move:\n",
    "        src = 'data/{}/{}'.format(genre_name, f)\n",
    "        dst = 'data/validation/{}/{}'.format(genre_name, f)\n",
    "        shutil.move(src, dst)"
   ]
  },
  {
   "cell_type": "markdown",
   "metadata": {},
   "source": [
    "#### And finally the holdout files..."
   ]
  },
  {
   "cell_type": "code",
   "execution_count": 24,
   "metadata": {},
   "outputs": [],
   "source": [
    "for t in holdout_ids:\n",
    "    files_to_move = list(df[df['track_id'] == t[0]]['file_name'])\n",
    "    for f in files_to_move:\n",
    "        src = 'data/{}/{}'.format(genre_name, f)\n",
    "        dst = 'data/holdout/{}/{}'.format(genre_name, f)\n",
    "        shutil.move(src, dst)"
   ]
  },
  {
   "cell_type": "code",
   "execution_count": null,
   "metadata": {},
   "outputs": [],
   "source": []
  },
  {
   "cell_type": "code",
   "execution_count": null,
   "metadata": {},
   "outputs": [],
   "source": []
  },
  {
   "cell_type": "code",
   "execution_count": null,
   "metadata": {},
   "outputs": [],
   "source": []
  }
 ],
 "metadata": {
  "kernelspec": {
   "display_name": "Python 3",
   "language": "python",
   "name": "python3"
  },
  "language_info": {
   "codemirror_mode": {
    "name": "ipython",
    "version": 3
   },
   "file_extension": ".py",
   "mimetype": "text/x-python",
   "name": "python",
   "nbconvert_exporter": "python",
   "pygments_lexer": "ipython3",
   "version": "3.5.2"
  }
 },
 "nbformat": 4,
 "nbformat_minor": 2
}
