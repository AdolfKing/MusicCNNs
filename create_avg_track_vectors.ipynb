{
 "cells": [
  {
   "cell_type": "markdown",
   "metadata": {},
   "source": [
    "# Create feature vectors for individual music files"
   ]
  },
  {
   "cell_type": "markdown",
   "metadata": {},
   "source": [
    "### Imports"
   ]
  },
  {
   "cell_type": "code",
   "execution_count": 60,
   "metadata": {
    "collapsed": true
   },
   "outputs": [],
   "source": [
    "import os\n",
    "import glob\n",
    "import numpy as np\n",
    "import pickle\n",
    "import pandas as pd"
   ]
  },
  {
   "cell_type": "markdown",
   "metadata": {},
   "source": [
    "### Load file lists"
   ]
  },
  {
   "cell_type": "code",
   "execution_count": 61,
   "metadata": {
    "collapsed": true
   },
   "outputs": [],
   "source": [
    "vecs = glob.glob('feature_vec_arrays/*')"
   ]
  },
  {
   "cell_type": "code",
   "execution_count": 62,
   "metadata": {},
   "outputs": [],
   "source": [
    "l = []\n",
    "for v in vecs:\n",
    "    v = v.split('/')[1]\n",
    "    file_name = v\n",
    "    v = v.replace('.npy','')\n",
    "    v = v.split('__')\n",
    "    d = {\n",
    "        'file_name':file_name,\n",
    "        'genre':v[0],\n",
    "        'song_id':v[1],\n",
    "        'spect_num':v[2]}\n",
    "    l.append(d)"
   ]
  },
  {
   "cell_type": "code",
   "execution_count": 63,
   "metadata": {},
   "outputs": [
    {
     "data": {
      "text/plain": [
       "{'file_name': 'breakbeat__100035__000.npy',\n",
       " 'genre': 'breakbeat',\n",
       " 'song_id': '100035',\n",
       " 'spect_num': '000'}"
      ]
     },
     "execution_count": 63,
     "metadata": {},
     "output_type": "execute_result"
    }
   ],
   "source": [
    "l[0]"
   ]
  },
  {
   "cell_type": "code",
   "execution_count": 64,
   "metadata": {
    "collapsed": true
   },
   "outputs": [],
   "source": [
    "df = pd.DataFrame(l)"
   ]
  },
  {
   "cell_type": "code",
   "execution_count": 65,
   "metadata": {},
   "outputs": [
    {
     "data": {
      "text/html": [
       "<div>\n",
       "<table border=\"1\" class=\"dataframe\">\n",
       "  <thead>\n",
       "    <tr style=\"text-align: right;\">\n",
       "      <th></th>\n",
       "      <th>file_name</th>\n",
       "      <th>genre</th>\n",
       "      <th>song_id</th>\n",
       "      <th>spect_num</th>\n",
       "    </tr>\n",
       "  </thead>\n",
       "  <tbody>\n",
       "    <tr>\n",
       "      <th>122715</th>\n",
       "      <td>hip_hop_rnb__37543__001.npy</td>\n",
       "      <td>hip_hop_rnb</td>\n",
       "      <td>37543</td>\n",
       "      <td>001</td>\n",
       "    </tr>\n",
       "    <tr>\n",
       "      <th>101606</th>\n",
       "      <td>funky_house__339799__001.npy</td>\n",
       "      <td>funky_house</td>\n",
       "      <td>339799</td>\n",
       "      <td>001</td>\n",
       "    </tr>\n",
       "    <tr>\n",
       "      <th>111190</th>\n",
       "      <td>hip_hop_rnb__143748__022.npy</td>\n",
       "      <td>hip_hop_rnb</td>\n",
       "      <td>143748</td>\n",
       "      <td>022</td>\n",
       "    </tr>\n",
       "    <tr>\n",
       "      <th>8910</th>\n",
       "      <td>breakbeat__247009__010.npy</td>\n",
       "      <td>breakbeat</td>\n",
       "      <td>247009</td>\n",
       "      <td>010</td>\n",
       "    </tr>\n",
       "    <tr>\n",
       "      <th>129619</th>\n",
       "      <td>minimal_house__12369__016.npy</td>\n",
       "      <td>minimal_house</td>\n",
       "      <td>12369</td>\n",
       "      <td>016</td>\n",
       "    </tr>\n",
       "    <tr>\n",
       "      <th>133215</th>\n",
       "      <td>minimal_house__187096__017.npy</td>\n",
       "      <td>minimal_house</td>\n",
       "      <td>187096</td>\n",
       "      <td>017</td>\n",
       "    </tr>\n",
       "  </tbody>\n",
       "</table>\n",
       "</div>"
      ],
      "text/plain": [
       "                             file_name          genre song_id spect_num\n",
       "122715     hip_hop_rnb__37543__001.npy    hip_hop_rnb   37543       001\n",
       "101606    funky_house__339799__001.npy    funky_house  339799       001\n",
       "111190    hip_hop_rnb__143748__022.npy    hip_hop_rnb  143748       022\n",
       "8910        breakbeat__247009__010.npy      breakbeat  247009       010\n",
       "129619   minimal_house__12369__016.npy  minimal_house   12369       016\n",
       "133215  minimal_house__187096__017.npy  minimal_house  187096       017"
      ]
     },
     "execution_count": 65,
     "metadata": {},
     "output_type": "execute_result"
    }
   ],
   "source": [
    "df.sample(6)"
   ]
  },
  {
   "cell_type": "code",
   "execution_count": 66,
   "metadata": {},
   "outputs": [],
   "source": [
    "song_ids = list(set(df['song_id']))"
   ]
  },
  {
   "cell_type": "markdown",
   "metadata": {},
   "source": [
    "### Loop through and save average feature vecs"
   ]
  },
  {
   "cell_type": "code",
   "execution_count": 72,
   "metadata": {
    "collapsed": true
   },
   "outputs": [],
   "source": [
    "for s in song_ids:\n",
    "    file_list = list(df[df['song_id'] == s]['file_name'])\n",
    "    \n",
    "    files = []\n",
    "    for f in file_list:\n",
    "        npy = np.load('feature_vec_arrays/{}'.format(f))\n",
    "        files.append(npy)\n",
    "    \n",
    "    song_avg_vec = np.average(files, axis=0)\n",
    "    save_name = 'avg_feature_arrays/{}.npy'.format(s)\n",
    "    np.save(save_name, song_avg_vec)"
   ]
  }
 ],
 "metadata": {
  "kernelspec": {
   "display_name": "Python 3",
   "language": "python",
   "name": "python3"
  },
  "language_info": {
   "codemirror_mode": {
    "name": "ipython",
    "version": 3
   },
   "file_extension": ".py",
   "mimetype": "text/x-python",
   "name": "python",
   "nbconvert_exporter": "python",
   "pygments_lexer": "ipython3",
   "version": "3.5.2"
  }
 },
 "nbformat": 4,
 "nbformat_minor": 2
}
